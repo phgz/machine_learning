{
 "cells": [
  {
   "cell_type": "code",
   "execution_count": 1,
   "metadata": {
    "id": "xgV13eyUwD3E"
   },
   "outputs": [],
   "source": [
    "import numpy as np\n",
    "import pandas as pd\n",
    "import matplotlib.pyplot as plt\n",
    "from sklearn import preprocessing\n",
    "import math\n",
    "\n",
    "from sklearn.decomposition import PCA"
   ]
  },
  {
   "cell_type": "markdown",
   "metadata": {
    "id": "SpuEZsSKwD3F"
   },
   "source": [
    "## Étape 1\n",
    "### 1- Lecture des données"
   ]
  },
  {
   "cell_type": "code",
   "execution_count": 2,
   "metadata": {
    "colab": {
     "base_uri": "https://localhost:8080/",
     "height": 876
    },
    "executionInfo": {
     "elapsed": 781,
     "status": "ok",
     "timestamp": 1618192993712,
     "user": {
      "displayName": "Philip Gaudreau",
      "photoUrl": "https://lh3.googleusercontent.com/a-/AOh14GjQb0upxp0LCvoolcDAHmb5yXNhi61puVeiEc6Ukw=s64",
      "userId": "15812446078417422955"
     },
     "user_tz": 240
    },
    "id": "IKnyo60LwD3G",
    "outputId": "936059f3-ca7a-4a1e-eff7-ef803914b73b"
   },
   "outputs": [
    {
     "data": {
      "text/html": [
       "<div>\n",
       "<style scoped>\n",
       "    .dataframe tbody tr th:only-of-type {\n",
       "        vertical-align: middle;\n",
       "    }\n",
       "\n",
       "    .dataframe tbody tr th {\n",
       "        vertical-align: top;\n",
       "    }\n",
       "\n",
       "    .dataframe thead th {\n",
       "        text-align: right;\n",
       "    }\n",
       "</style>\n",
       "<table border=\"1\" class=\"dataframe\">\n",
       "  <thead>\n",
       "    <tr style=\"text-align: right;\">\n",
       "      <th></th>\n",
       "      <th>CYL</th>\n",
       "      <th>PUISS</th>\n",
       "      <th>LONG</th>\n",
       "      <th>LARG</th>\n",
       "      <th>POIDS</th>\n",
       "      <th>V.MAX</th>\n",
       "    </tr>\n",
       "    <tr>\n",
       "      <th>Modele</th>\n",
       "      <th></th>\n",
       "      <th></th>\n",
       "      <th></th>\n",
       "      <th></th>\n",
       "      <th></th>\n",
       "      <th></th>\n",
       "    </tr>\n",
       "  </thead>\n",
       "  <tbody>\n",
       "    <tr>\n",
       "      <th>Alfasud TI</th>\n",
       "      <td>1350</td>\n",
       "      <td>79</td>\n",
       "      <td>393</td>\n",
       "      <td>161</td>\n",
       "      <td>870</td>\n",
       "      <td>165</td>\n",
       "    </tr>\n",
       "    <tr>\n",
       "      <th>Audi 100</th>\n",
       "      <td>1588</td>\n",
       "      <td>85</td>\n",
       "      <td>468</td>\n",
       "      <td>177</td>\n",
       "      <td>1110</td>\n",
       "      <td>160</td>\n",
       "    </tr>\n",
       "    <tr>\n",
       "      <th>Simca 1300</th>\n",
       "      <td>1294</td>\n",
       "      <td>68</td>\n",
       "      <td>424</td>\n",
       "      <td>168</td>\n",
       "      <td>1050</td>\n",
       "      <td>152</td>\n",
       "    </tr>\n",
       "    <tr>\n",
       "      <th>Citroen GS Club</th>\n",
       "      <td>1222</td>\n",
       "      <td>59</td>\n",
       "      <td>412</td>\n",
       "      <td>161</td>\n",
       "      <td>930</td>\n",
       "      <td>151</td>\n",
       "    </tr>\n",
       "    <tr>\n",
       "      <th>Fiat 132</th>\n",
       "      <td>1585</td>\n",
       "      <td>98</td>\n",
       "      <td>439</td>\n",
       "      <td>164</td>\n",
       "      <td>1105</td>\n",
       "      <td>165</td>\n",
       "    </tr>\n",
       "    <tr>\n",
       "      <th>Lancia Beta</th>\n",
       "      <td>1297</td>\n",
       "      <td>82</td>\n",
       "      <td>429</td>\n",
       "      <td>169</td>\n",
       "      <td>1080</td>\n",
       "      <td>160</td>\n",
       "    </tr>\n",
       "    <tr>\n",
       "      <th>Peugeot 504</th>\n",
       "      <td>1796</td>\n",
       "      <td>79</td>\n",
       "      <td>449</td>\n",
       "      <td>169</td>\n",
       "      <td>1160</td>\n",
       "      <td>154</td>\n",
       "    </tr>\n",
       "    <tr>\n",
       "      <th>Renault 16 TL</th>\n",
       "      <td>1565</td>\n",
       "      <td>55</td>\n",
       "      <td>424</td>\n",
       "      <td>163</td>\n",
       "      <td>1010</td>\n",
       "      <td>140</td>\n",
       "    </tr>\n",
       "    <tr>\n",
       "      <th>Renault 30</th>\n",
       "      <td>2664</td>\n",
       "      <td>128</td>\n",
       "      <td>452</td>\n",
       "      <td>173</td>\n",
       "      <td>1320</td>\n",
       "      <td>180</td>\n",
       "    </tr>\n",
       "    <tr>\n",
       "      <th>Toyota Corolla</th>\n",
       "      <td>1166</td>\n",
       "      <td>55</td>\n",
       "      <td>399</td>\n",
       "      <td>157</td>\n",
       "      <td>815</td>\n",
       "      <td>140</td>\n",
       "    </tr>\n",
       "    <tr>\n",
       "      <th>Alfetta 1.66</th>\n",
       "      <td>1570</td>\n",
       "      <td>109</td>\n",
       "      <td>428</td>\n",
       "      <td>162</td>\n",
       "      <td>1060</td>\n",
       "      <td>175</td>\n",
       "    </tr>\n",
       "    <tr>\n",
       "      <th>Princess 1800</th>\n",
       "      <td>1798</td>\n",
       "      <td>82</td>\n",
       "      <td>445</td>\n",
       "      <td>172</td>\n",
       "      <td>1160</td>\n",
       "      <td>158</td>\n",
       "    </tr>\n",
       "    <tr>\n",
       "      <th>Datsun 200L</th>\n",
       "      <td>1998</td>\n",
       "      <td>115</td>\n",
       "      <td>469</td>\n",
       "      <td>169</td>\n",
       "      <td>1370</td>\n",
       "      <td>160</td>\n",
       "    </tr>\n",
       "    <tr>\n",
       "      <th>Taunus 2000</th>\n",
       "      <td>1993</td>\n",
       "      <td>98</td>\n",
       "      <td>438</td>\n",
       "      <td>170</td>\n",
       "      <td>1080</td>\n",
       "      <td>167</td>\n",
       "    </tr>\n",
       "    <tr>\n",
       "      <th>Rancho</th>\n",
       "      <td>1442</td>\n",
       "      <td>80</td>\n",
       "      <td>431</td>\n",
       "      <td>166</td>\n",
       "      <td>1129</td>\n",
       "      <td>144</td>\n",
       "    </tr>\n",
       "    <tr>\n",
       "      <th>Mazda 9295</th>\n",
       "      <td>1769</td>\n",
       "      <td>83</td>\n",
       "      <td>440</td>\n",
       "      <td>165</td>\n",
       "      <td>1095</td>\n",
       "      <td>165</td>\n",
       "    </tr>\n",
       "    <tr>\n",
       "      <th>Opel Rekord</th>\n",
       "      <td>1979</td>\n",
       "      <td>100</td>\n",
       "      <td>459</td>\n",
       "      <td>173</td>\n",
       "      <td>1120</td>\n",
       "      <td>173</td>\n",
       "    </tr>\n",
       "    <tr>\n",
       "      <th>Lada 1300</th>\n",
       "      <td>1294</td>\n",
       "      <td>68</td>\n",
       "      <td>404</td>\n",
       "      <td>161</td>\n",
       "      <td>955</td>\n",
       "      <td>140</td>\n",
       "    </tr>\n",
       "  </tbody>\n",
       "</table>\n",
       "</div>"
      ],
      "text/plain": [
       "                  CYL  PUISS  LONG  LARG  POIDS  V.MAX\n",
       "Modele                                                \n",
       "Alfasud TI       1350     79   393   161    870    165\n",
       "Audi 100         1588     85   468   177   1110    160\n",
       "Simca 1300       1294     68   424   168   1050    152\n",
       "Citroen GS Club  1222     59   412   161    930    151\n",
       "Fiat 132         1585     98   439   164   1105    165\n",
       "Lancia Beta      1297     82   429   169   1080    160\n",
       "Peugeot 504      1796     79   449   169   1160    154\n",
       "Renault 16 TL    1565     55   424   163   1010    140\n",
       "Renault 30       2664    128   452   173   1320    180\n",
       "Toyota Corolla   1166     55   399   157    815    140\n",
       "Alfetta 1.66     1570    109   428   162   1060    175\n",
       "Princess 1800    1798     82   445   172   1160    158\n",
       "Datsun 200L      1998    115   469   169   1370    160\n",
       "Taunus 2000      1993     98   438   170   1080    167\n",
       "Rancho           1442     80   431   166   1129    144\n",
       "Mazda 9295       1769     83   440   165   1095    165\n",
       "Opel Rekord      1979    100   459   173   1120    173\n",
       "Lada 1300        1294     68   404   161    955    140"
      ]
     },
     "metadata": {},
     "output_type": "display_data"
    },
    {
     "name": "stdout",
     "output_type": "stream",
     "text": [
      "<class 'pandas.core.frame.DataFrame'>\n",
      "Index: 18 entries, Alfasud TI to Lada 1300\n",
      "Data columns (total 6 columns):\n",
      " #   Column  Non-Null Count  Dtype\n",
      "---  ------  --------------  -----\n",
      " 0   CYL     18 non-null     int64\n",
      " 1   PUISS   18 non-null     int64\n",
      " 2   LONG    18 non-null     int64\n",
      " 3   LARG    18 non-null     int64\n",
      " 4   POIDS   18 non-null     int64\n",
      " 5   V.MAX   18 non-null     int64\n",
      "dtypes: int64(6)\n",
      "memory usage: 1008.0+ bytes\n",
      "None\n"
     ]
    }
   ],
   "source": [
    "df = pd.read_excel(\"autos-Saporta.xls\", header=0, index_col=0)\n",
    "display(df.head(50))\n",
    "print(df.info())"
   ]
  },
  {
   "cell_type": "markdown",
   "metadata": {
    "id": "NJBpczqIwD3H"
   },
   "source": [
    "_Les 6 variables sont du type quantitative discrète._"
   ]
  },
  {
   "cell_type": "markdown",
   "metadata": {
    "id": "4HHBfzg8wD3H"
   },
   "source": [
    "### 2- Standardisation des données en vue d’une analyse ACP"
   ]
  },
  {
   "cell_type": "code",
   "execution_count": 3,
   "metadata": {
    "colab": {
     "base_uri": "https://localhost:8080/"
    },
    "executionInfo": {
     "elapsed": 776,
     "status": "ok",
     "timestamp": 1618192993713,
     "user": {
      "displayName": "Philip Gaudreau",
      "photoUrl": "https://lh3.googleusercontent.com/a-/AOh14GjQb0upxp0LCvoolcDAHmb5yXNhi61puVeiEc6Ukw=s64",
      "userId": "15812446078417422955"
     },
     "user_tz": 240
    },
    "id": "Mo03P-CywD3I",
    "outputId": "8ed21b40-c7eb-46f2-d1c0-d4b51fbc0c3d"
   },
   "outputs": [
    {
     "name": "stdout",
     "output_type": "stream",
     "text": [
      "[[-0.7751 -0.2834 -1.8851 -1.0973 -1.569   0.5698]\n",
      " [-0.1202  0.0196  1.6058  2.001   0.2342  0.146 ]\n",
      " [-0.9292 -0.8389 -0.4422  0.2582 -0.2166 -0.5321]\n",
      " [-1.1273 -1.2933 -1.0007 -1.0973 -1.1182 -0.6168]\n",
      " [-0.1284  0.6761  0.256  -0.5164  0.1966  0.5698]\n",
      " [-0.9209 -0.1319 -0.2095  0.4518  0.0088  0.146 ]\n",
      " [ 0.4522 -0.2834  0.7215  0.4518  0.6098 -0.3626]\n",
      " [-0.1835 -1.4953 -0.4422 -0.71   -0.5172 -1.5492]\n",
      " [ 2.8408  2.1911  0.8611  1.2264  1.8119  1.8411]\n",
      " [-1.2814 -1.4953 -1.6058 -1.8719 -1.9822 -1.5492]\n",
      " [-0.1697  1.2316 -0.256  -0.9037 -0.1415  1.4173]\n",
      " [ 0.4577 -0.1319  0.5353  1.0328  0.6098 -0.0235]\n",
      " [ 1.0081  1.5346  1.6524  0.4518  2.1876  0.146 ]\n",
      " [ 0.9943  0.6761  0.2095  0.6455  0.0088  0.7393]\n",
      " [-0.5219 -0.2329 -0.1164 -0.1291  0.3769 -1.2102]\n",
      " [ 0.3779 -0.0814  0.3025 -0.3227  0.1215  0.5698]\n",
      " [ 0.9558  0.7771  1.1869  1.2264  0.3093  1.2478]\n",
      " [-0.9292 -0.8389 -1.3731 -1.0973 -0.9304 -1.5492]]\n"
     ]
    }
   ],
   "source": [
    "scaler = preprocessing.StandardScaler()\n",
    "standardized = scaler.fit_transform(df)\n",
    "print(standardized.round(4))"
   ]
  },
  {
   "cell_type": "markdown",
   "metadata": {
    "id": "LjhnvjAHwD3I"
   },
   "source": [
    "### 3- Vérification que les données sont centrées et réduites"
   ]
  },
  {
   "cell_type": "code",
   "execution_count": 4,
   "metadata": {
    "colab": {
     "base_uri": "https://localhost:8080/"
    },
    "executionInfo": {
     "elapsed": 773,
     "status": "ok",
     "timestamp": 1618192993714,
     "user": {
      "displayName": "Philip Gaudreau",
      "photoUrl": "https://lh3.googleusercontent.com/a-/AOh14GjQb0upxp0LCvoolcDAHmb5yXNhi61puVeiEc6Ukw=s64",
      "userId": "15812446078417422955"
     },
     "user_tz": 240
    },
    "id": "GYvbhYRiwD3I",
    "outputId": "873a72cf-e9b5-4ceb-a8c2-e81851a2b479",
    "scrolled": true
   },
   "outputs": [
    {
     "name": "stdout",
     "output_type": "stream",
     "text": [
      "Les moyennes des variables:\n",
      " [-0. -0.  0.  0.  0.  0.]\n",
      "Les écarts types des variables\n",
      " [1. 1. 1. 1. 1. 1.]\n"
     ]
    }
   ],
   "source": [
    "print(\"Les moyennes des variables:\\n\", np.mean(standardized, axis = 0).round(3))\n",
    "print(\"Les écarts types des variables\\n\", np.std(standardized, axis=0))"
   ]
  },
  {
   "cell_type": "markdown",
   "metadata": {
    "id": "XngnnVoQwD3J"
   },
   "source": [
    "## Étape 2\n",
    "### 1- Calcul de la matrice de corrélation des variables"
   ]
  },
  {
   "cell_type": "code",
   "execution_count": 5,
   "metadata": {
    "colab": {
     "base_uri": "https://localhost:8080/",
     "height": 119
    },
    "executionInfo": {
     "elapsed": 976,
     "status": "ok",
     "timestamp": 1618192993921,
     "user": {
      "displayName": "Philip Gaudreau",
      "photoUrl": "https://lh3.googleusercontent.com/a-/AOh14GjQb0upxp0LCvoolcDAHmb5yXNhi61puVeiEc6Ukw=s64",
      "userId": "15812446078417422955"
     },
     "user_tz": 240
    },
    "id": "3gV2B04SwD3J",
    "outputId": "7e66c9ba-0d4c-486f-a86a-a8458a6c60b1"
   },
   "outputs": [
    {
     "data": {
      "text/plain": [
       "array([[1.   , 0.797, 0.701, 0.63 , 0.789, 0.665],\n",
       "       [0.797, 1.   , 0.641, 0.521, 0.765, 0.844],\n",
       "       [0.701, 0.641, 1.   , 0.849, 0.868, 0.476],\n",
       "       [0.63 , 0.521, 0.849, 1.   , 0.717, 0.473],\n",
       "       [0.789, 0.765, 0.868, 0.717, 1.   , 0.478],\n",
       "       [0.665, 0.844, 0.476, 0.473, 0.478, 1.   ]])"
      ]
     },
     "metadata": {},
     "output_type": "display_data"
    }
   ],
   "source": [
    "corr_matrix = np.corrcoef(standardized.T)\n",
    "display(corr_matrix.round(3))"
   ]
  },
  {
   "cell_type": "markdown",
   "metadata": {
    "id": "DdsjGPiLwD3J"
   },
   "source": [
    "### 2-3-4 Calcul de valeurs propres de la matrice de corrélation, somme des valeurs propres et calcul de la proportion de variance expliquée"
   ]
  },
  {
   "cell_type": "code",
   "execution_count": 6,
   "metadata": {
    "colab": {
     "base_uri": "https://localhost:8080/"
    },
    "executionInfo": {
     "elapsed": 973,
     "status": "ok",
     "timestamp": 1618192993922,
     "user": {
      "displayName": "Philip Gaudreau",
      "photoUrl": "https://lh3.googleusercontent.com/a-/AOh14GjQb0upxp0LCvoolcDAHmb5yXNhi61puVeiEc6Ukw=s64",
      "userId": "15812446078417422955"
     },
     "user_tz": 240
    },
    "id": "52Wk1PY5wD3J",
    "outputId": "eed8ffd4-8dee-4037-cfc6-3efd5e1e9d71"
   },
   "outputs": [
    {
     "name": "stdout",
     "output_type": "stream",
     "text": [
      "Eigenvectors: \n",
      " [[-0.425 -0.124 -0.354  0.808  0.152 -0.059]\n",
      " [-0.422 -0.416 -0.185 -0.358 -0.294 -0.633]\n",
      " [-0.421  0.412  0.068 -0.28   0.731 -0.19 ]\n",
      " [-0.387  0.446  0.605  0.212 -0.478 -0.11 ]\n",
      " [-0.431  0.243 -0.484 -0.302 -0.305  0.581]\n",
      " [-0.359 -0.62   0.485 -0.074  0.189  0.459]] \n",
      "\n",
      "Eigenvalues: \n",
      " [4.42085806 0.85606229 0.37306608 0.21392209 0.09280121 0.04329027] \n",
      "\n",
      "Somme des valeurs propres: 5.999999999999997 \n",
      "\n",
      "Proportion de variance expliquée:\n",
      "[0.7368096766014814, 0.14267704820766, 0.06217767957332889, 0.03565368150388502, 0.015466868667654747, 0.0072150454459900485]\n"
     ]
    }
   ],
   "source": [
    "eigen_values, eigen_vectors = np.linalg.eig(corr_matrix)\n",
    "print(\"Eigenvectors: \\n\",eigen_vectors.round(3),\"\\n\")\n",
    "print(\"Eigenvalues: \\n\", eigen_values, \"\\n\")\n",
    "\n",
    "sum_eigen_values = sum(eigen_values)\n",
    "print(\"Somme des valeurs propres:\", sum_eigen_values, \"\\n\")\n",
    "props = list(map(lambda ev: ev / sum_eigen_values, eigen_values))\n",
    "print(\"Proportion de variance expliquée:\\n\" + str(props))"
   ]
  },
  {
   "cell_type": "markdown",
   "metadata": {
    "id": "tiiGcteVwD3K"
   },
   "source": [
    "_La somme des valeurs propres (eigenvalues) est égale au nombre de eigenvalues (le nombre de composantes principales). Du reste, avec une projection sur le premier axe, on conserve près de 74% de la variance initiale des données._"
   ]
  },
  {
   "cell_type": "markdown",
   "metadata": {
    "id": "prctP3ozwD3K"
   },
   "source": [
    "### 5- Détermination du nombre d’axes à retenir en utilisant le critère de coude"
   ]
  },
  {
   "cell_type": "code",
   "execution_count": 7,
   "metadata": {
    "colab": {
     "base_uri": "https://localhost:8080/",
     "height": 295
    },
    "executionInfo": {
     "elapsed": 1155,
     "status": "ok",
     "timestamp": 1618192994109,
     "user": {
      "displayName": "Philip Gaudreau",
      "photoUrl": "https://lh3.googleusercontent.com/a-/AOh14GjQb0upxp0LCvoolcDAHmb5yXNhi61puVeiEc6Ukw=s64",
      "userId": "15812446078417422955"
     },
     "user_tz": 240
    },
    "id": "gao46lKDwD3K",
    "outputId": "8a2173cc-fc9b-44f4-9293-9993028b84d3",
    "scrolled": false
   },
   "outputs": [
    {
     "data": {
      "image/png": "[encoded data removed]",
      "text/plain": [
       "<Figure size 432x288 with 1 Axes>"
      ]
     },
     "metadata": {
      "needs_background": "light"
     },
     "output_type": "display_data"
    }
   ],
   "source": [
    "plt.plot(np.arange(1,len(df.columns) + 1),eigen_values)\n",
    "plt.title(\"Scree plot\")\n",
    "plt.ylabel(\"Eigen values\")\n",
    "plt.xlabel(\"Axe\")\n",
    "plt.show()"
   ]
  },
  {
   "cell_type": "markdown",
   "metadata": {
    "id": "jiTHE4BxwD3K"
   },
   "source": [
    "_On voit qu'à partir de 2 axes, il n'y a plus vraiment de gain dans l'explication de la variance; le coude se situe à 2 axes._"
   ]
  },
  {
   "cell_type": "markdown",
   "metadata": {
    "id": "mekSTUlQwD3L"
   },
   "source": [
    "### 6- Réalisation d'une  ACP"
   ]
  },
  {
   "cell_type": "code",
   "execution_count": 8,
   "metadata": {
    "colab": {
     "base_uri": "https://localhost:8080/"
    },
    "executionInfo": {
     "elapsed": 1151,
     "status": "ok",
     "timestamp": 1618192994109,
     "user": {
      "displayName": "Philip Gaudreau",
      "photoUrl": "https://lh3.googleusercontent.com/a-/AOh14GjQb0upxp0LCvoolcDAHmb5yXNhi61puVeiEc6Ukw=s64",
      "userId": "15812446078417422955"
     },
     "user_tz": 240
    },
    "id": "5ud5pyf3wD3L",
    "outputId": "5e40d5ea-b2a2-4fa1-8048-0bf58f22e8e1",
    "scrolled": false
   },
   "outputs": [
    {
     "name": "stdout",
     "output_type": "stream",
     "text": [
      "Coordonées des individus dans l'espace factoriel:\n",
      " [[-2.139  1.786  0.572  0.202 -0.301  0.054]\n",
      " [ 1.561 -1.527  1.315 -0.211  0.149 -0.327]\n",
      " [-1.119 -0.675  0.457 -0.168 -0.375  0.272]\n",
      " [-2.574  0.113  0.149 -0.017  0.227  0.263]\n",
      " [ 0.428  0.696 -0.193 -0.628  0.264 -0.037]\n",
      " [-0.304 -0.196  0.676 -0.556 -0.445  0.2  ]\n",
      " [ 0.684 -0.933 -0.257  0.203  0.209  0.154]\n",
      " [-1.948 -0.98  -0.62   0.63   0.293  0.109]\n",
      " [ 4.41   1.064 -0.594  0.847 -0.375  0.044]\n",
      " [-3.986  0.236 -0.303  0.265  0.278 -0.329]\n",
      " [ 0.438  1.912  0.025 -0.759  0.168 -0.054]\n",
      " [ 1.018 -0.842  0.217  0.303 -0.185  0.185]\n",
      " [ 2.941 -0.559 -1.244 -0.772  0.054 -0.057]\n",
      " [ 1.315  0.487  0.283  0.582 -0.067 -0.253]\n",
      " [-0.691 -0.898 -0.628 -0.358 -0.377 -0.122]\n",
      " [ 0.386  0.356 -0.076  0.103  0.527  0.339]\n",
      " [ 2.29   0.104  0.796  0.236  0.338 -0.157]\n",
      " [-2.709 -0.144 -0.574  0.096 -0.382 -0.283]] \n",
      "\n",
      "Nombre de composantes principales: 6 \n",
      "\n",
      "Variance expliquée: [4.68090853 0.90641889 0.39501114 0.22650574 0.09826011 0.04583676] \n",
      "\n",
      "Part de la variance expliquée: [0.73680968 0.14267705 0.06217768 0.03565368 0.01546687 0.00721505]\n"
     ]
    }
   ],
   "source": [
    "acp = PCA(svd_solver='full')\n",
    "C = acp.fit_transform(standardized)\n",
    "n_component = acp.n_components_\n",
    "\n",
    "print(\"Coordonées des individus dans l'espace factoriel:\\n\", C.round(3), \"\\n\")\n",
    "print(\"Nombre de composantes principales:\", n_component, \"\\n\")\n",
    "print(\"Variance expliquée:\", acp.explained_variance_, \"\\n\")\n",
    "print(\"Part de la variance expliquée:\", acp.explained_variance_ratio_)"
   ]
  },
  {
   "cell_type": "markdown",
   "metadata": {
    "id": "_sCZh96GwD3L"
   },
   "source": [
    "_Les eigen values ne sont pas exactement les mêmes, mais restent proches. Par contre, les part de variances expliquées sont les mêmes ainsi que le nombre d'axes. Les coordonnées des individus dans l'espace factoriel peuvent être interprétées ainsi: la première colonne contient les coordonées des individus sur le nouvel axe défini par la première composante principale. Donc sur une ligne graduée, le premier individu se situe à -2.139, le deuxième à 1.561, etc. et nous pouvons ainsi voir la distance et le regroupement des individus._"
   ]
  },
  {
   "cell_type": "code",
   "execution_count": 9,
   "metadata": {
    "colab": {
     "base_uri": "https://localhost:8080/",
     "height": 295
    },
    "executionInfo": {
     "elapsed": 1334,
     "status": "ok",
     "timestamp": 1618192994295,
     "user": {
      "displayName": "Philip Gaudreau",
      "photoUrl": "https://lh3.googleusercontent.com/a-/AOh14GjQb0upxp0LCvoolcDAHmb5yXNhi61puVeiEc6Ukw=s64",
      "userId": "15812446078417422955"
     },
     "user_tz": 240
    },
    "id": "gFIHzU0CwD3L",
    "outputId": "519e2a7f-fe17-48d2-db3d-cd90f9e471ce",
    "scrolled": true
   },
   "outputs": [
    {
     "data": {
      "image/png": "[encoded data removed]",
      "text/plain": [
       "<Figure size 432x288 with 1 Axes>"
      ]
     },
     "metadata": {
      "needs_background": "light"
     },
     "output_type": "display_data"
    }
   ],
   "source": [
    "plt.plot(np.arange(1,len(df.columns) + 1),np.cumsum(acp.explained_variance_ratio_))\n",
    "plt.title(\"Variance expliquée selon le nombre d'axes\")\n",
    "plt.ylabel(\"Variance expliquée cumulative\")\n",
    "plt.xlabel(\"Axe\")\n",
    "plt.show()"
   ]
  },
  {
   "cell_type": "markdown",
   "metadata": {
    "id": "kkKQB93PwD3M"
   },
   "source": [
    "### 7- Projection des individus sur les deux premièrs axes factoriels (plan factoriel)"
   ]
  },
  {
   "cell_type": "code",
   "execution_count": 10,
   "metadata": {
    "colab": {
     "base_uri": "https://localhost:8080/",
     "height": 704
    },
    "executionInfo": {
     "elapsed": 1870,
     "status": "ok",
     "timestamp": 1618192994836,
     "user": {
      "displayName": "Philip Gaudreau",
      "photoUrl": "https://lh3.googleusercontent.com/a-/AOh14GjQb0upxp0LCvoolcDAHmb5yXNhi61puVeiEc6Ukw=s64",
      "userId": "15812446078417422955"
     },
     "user_tz": 240
    },
    "id": "JclUzyQ1wD3M",
    "outputId": "8f99aaa6-192c-4d78-a356-7aa10a491015"
   },
   "outputs": [
    {
     "data": {
      "image/png": "[encoded data removed]",
      "text/plain": [
       "<Figure size 864x864 with 1 Axes>"
      ]
     },
     "metadata": {
      "needs_background": "light"
     },
     "output_type": "display_data"
    }
   ],
   "source": [
    "#positionnement des individus dans le premier plan\n",
    "fig, axes = plt.subplots(figsize=(12,12))\n",
    "axes.set_xlim(-6,6) #même limites en abscisse\n",
    "axes.set_ylim(-6,6) #et en ordonnée\n",
    "\n",
    "#placement des étiquettes des observations\n",
    "for i in range((df.shape[0])):\n",
    " # i correspond à la ligne, 0 à la cp1 et 1 à la cp2\n",
    " plt.annotate(df.index[i],(C[i,0],C[i,1]))\n",
    "\n",
    "#ajouter les axes\n",
    "plt.plot([-6,6],[0,0],color='silver',linestyle='-',linewidth=1)\n",
    "plt.plot([0,0],[-6,6],color='silver',linestyle='-',linewidth=1)\n",
    "\n",
    "plt.show()"
   ]
  },
  {
   "cell_type": "markdown",
   "metadata": {
    "id": "uavBKNsswD3M"
   },
   "source": [
    "_L'ACP nous permet de réduire la dimensionalité et ainsi pouvoir visualier le regroupement des individus. C'est-à-dire qu'on analyse la typologie des individus. Ainsi, sur le graphique ci-haut, on peut voir que sur l'axe principal (x), `Renaut 30` et `Toyota Corolla` sont à l'opposée, ce qui veut dire qu'elles sont éloignées en termes de ressemblance (seulement sur le premier axe, mais c'est aussi qui celui contient la quasi totalité de la variance!, donc la distance est significative. Ces deux voitures sont en effet moins éloignées si on les compare du point de vue de la $2^e$ composante principale. Dans cette visualisation, il s'agit plutôt de `Alfetta 1.66` et `Audi 100` qui sont les plus éloignées.) Par contre, on ne sait pas à quoi est dû cette différence._"
   ]
  },
  {
   "cell_type": "markdown",
   "metadata": {
    "id": "2l1oBZK2wD3N"
   },
   "source": [
    "## Étape 3\n",
    "### 2- Détermination des deux premiers axes factoriels."
   ]
  },
  {
   "cell_type": "code",
   "execution_count": 11,
   "metadata": {
    "colab": {
     "base_uri": "https://localhost:8080/"
    },
    "executionInfo": {
     "elapsed": 1867,
     "status": "ok",
     "timestamp": 1618192994837,
     "user": {
      "displayName": "Philip Gaudreau",
      "photoUrl": "https://lh3.googleusercontent.com/a-/AOh14GjQb0upxp0LCvoolcDAHmb5yXNhi61puVeiEc6Ukw=s64",
      "userId": "15812446078417422955"
     },
     "user_tz": 240
    },
    "id": "ZkJjQbeHwD3N",
    "outputId": "42763fe7-1ad2-486d-f439-3a837c377311"
   },
   "outputs": [
    {
     "name": "stdout",
     "output_type": "stream",
     "text": [
      "[-0.42493602 -0.12419108]\n",
      "[-0.42179441 -0.41577389]\n",
      "[-0.42145993  0.41181773]\n",
      "[-0.38692224  0.446087  ]\n",
      "[-0.43051198  0.24267581]\n",
      "[-0.35894427 -0.6198626 ]\n"
     ]
    }
   ],
   "source": [
    "for r in eigen_vectors:\n",
    "    print(r[:2])"
   ]
  },
  {
   "cell_type": "markdown",
   "metadata": {
    "id": "kMFWZ8AkwD3N"
   },
   "source": [
    "_Le premier axe factoriel $u_1$ est la première colonne et le deuxième axe $u_2$, la deuxième colonne._"
   ]
  },
  {
   "cell_type": "markdown",
   "metadata": {
    "id": "8c0gjq0OwD3N"
   },
   "source": [
    "### 3- Évaluation de la qualité globale de la représentation\n",
    "\n",
    "## $I_k = \\frac {\\lambda 1 + \\lambda 2 + ... + \\lambda_k} {\\sum_{\\alpha=1}^p \\lambda_a}$\n",
    "\n",
    "_Ici, la qualité globale de la représentation se mesure en faisant le rapport entre $\\lambda_1 + \\lambda 2$ et la somme des valeurs propres._"
   ]
  },
  {
   "cell_type": "code",
   "execution_count": 12,
   "metadata": {
    "colab": {
     "base_uri": "https://localhost:8080/"
    },
    "executionInfo": {
     "elapsed": 1864,
     "status": "ok",
     "timestamp": 1618192994837,
     "user": {
      "displayName": "Philip Gaudreau",
      "photoUrl": "https://lh3.googleusercontent.com/a-/AOh14GjQb0upxp0LCvoolcDAHmb5yXNhi61puVeiEc6Ukw=s64",
      "userId": "15812446078417422955"
     },
     "user_tz": 240
    },
    "id": "dWpoR_ABwD3O",
    "outputId": "b4ca6bcc-4989-4541-c81a-79930b844d6b"
   },
   "outputs": [
    {
     "data": {
      "text/plain": [
       "0.8794867248091414"
      ]
     },
     "execution_count": 12,
     "metadata": {},
     "output_type": "execute_result"
    }
   ],
   "source": [
    "Ik = (eigen_values[0] + eigen_values[1]) / sum_eigen_values\n",
    "Ik"
   ]
  },
  {
   "cell_type": "markdown",
   "metadata": {
    "id": "aRxgyzE5wD3O"
   },
   "source": [
    "_Donc, dans la représentation que nous avons, la qualité globale préservée est de 88%._"
   ]
  },
  {
   "cell_type": "markdown",
   "metadata": {
    "id": "fIkIUlKbwD3O"
   },
   "source": [
    "### 4- Calcul de la contribution de chaque individu à l’inertie totale\n",
    "\n",
    "## $d^2_i = \\sum_{j=1}^K (x_i^j)^2$"
   ]
  },
  {
   "cell_type": "code",
   "execution_count": 13,
   "metadata": {
    "colab": {
     "base_uri": "https://localhost:8080/"
    },
    "executionInfo": {
     "elapsed": 1859,
     "status": "ok",
     "timestamp": 1618192994838,
     "user": {
      "displayName": "Philip Gaudreau",
      "photoUrl": "https://lh3.googleusercontent.com/a-/AOh14GjQb0upxp0LCvoolcDAHmb5yXNhi61puVeiEc6Ukw=s64",
      "userId": "15812446078417422955"
     },
     "user_tz": 240
    },
    "id": "j5cS2wZtwD3P",
    "outputId": "6c37db28-c6e7-4fb4-ddc1-6803618836f2",
    "scrolled": true
   },
   "outputs": [
    {
     "name": "stdout",
     "output_type": "stream",
     "text": [
      "                 ID         di\n",
      "8        Renault 30  21.789657\n",
      "9    Toyota Corolla  16.290143\n",
      "12      Datsun 200L  11.112624\n",
      "0        Alfasud TI   8.225176\n",
      "17        Lada 1300   7.922198\n",
      "3   Citroen GS Club   6.780145\n",
      "1          Audi 100   6.673755\n",
      "16      Opel Rekord   6.083119\n",
      "7     Renault 16 TL   5.636826\n",
      "10     Alfetta 1.66   4.456770\n",
      "13      Taunus 2000   2.452986\n",
      "2        Simca 1300   2.159327\n",
      "14           Rancho   1.963373\n",
      "11    Princess 1800   1.952513\n",
      "6       Peugeot 504   1.512793\n",
      "4          Fiat 132   1.169124\n",
      "5       Lancia Beta   1.134950\n",
      "15       Mazda 9295   0.684521\n"
     ]
    }
   ],
   "source": [
    "di = (list(map(lambda r : sum(r), (standardized**2))))\n",
    "print(pd.DataFrame({'ID':df.index,'di':di}).sort_values(by=\"di\", ascending=False))"
   ]
  },
  {
   "cell_type": "code",
   "execution_count": 14,
   "metadata": {
    "colab": {
     "base_uri": "https://localhost:8080/",
     "height": 268
    },
    "executionInfo": {
     "elapsed": 2044,
     "status": "ok",
     "timestamp": 1618192995027,
     "user": {
      "displayName": "Philip Gaudreau",
      "photoUrl": "https://lh3.googleusercontent.com/a-/AOh14GjQb0upxp0LCvoolcDAHmb5yXNhi61puVeiEc6Ukw=s64",
      "userId": "15812446078417422955"
     },
     "user_tz": 240
    },
    "id": "9NyK1VtGwD3P",
    "outputId": "f418f684-dee3-412a-f708-63298249d92a"
   },
   "outputs": [
    {
     "data": {
      "image/png": "[encoded data removed]",
      "text/plain": [
       "<Figure size 432x288 with 1 Axes>"
      ]
     },
     "metadata": {
      "needs_background": "light"
     },
     "output_type": "display_data"
    }
   ],
   "source": [
    "pd.DataFrame({'ID':df.index,'di':di}).sort_values(by=\"di\", ascending=False).plot.bar()\n",
    "None"
   ]
  },
  {
   "cell_type": "markdown",
   "metadata": {
    "id": "C3T5DRKAwD3P"
   },
   "source": [
    "_On peut voir que `Renault 30` et `Toyota Corolla` sont les deux observations qui contribuent le plus à l'inertie totale._"
   ]
  },
  {
   "cell_type": "markdown",
   "metadata": {
    "id": "axQ2u_TZwD3P"
   },
   "source": [
    "### 5- Evaluation de la qualité de la représentation de chaque individu sur les deux premiers axes\n",
    "## $Qlt(i,\\alpha) = \\cos^2 (i,\\alpha) = \\frac {(c_i^a)^2} {d^2_i}$"
   ]
  },
  {
   "cell_type": "code",
   "execution_count": 15,
   "metadata": {
    "colab": {
     "base_uri": "https://localhost:8080/"
    },
    "executionInfo": {
     "elapsed": 2041,
     "status": "ok",
     "timestamp": 1618192995028,
     "user": {
      "displayName": "Philip Gaudreau",
      "photoUrl": "https://lh3.googleusercontent.com/a-/AOh14GjQb0upxp0LCvoolcDAHmb5yXNhi61puVeiEc6Ukw=s64",
      "userId": "15812446078417422955"
     },
     "user_tz": 240
    },
    "id": "55wk9m_owD3Q",
    "outputId": "ed4d543d-a1a6-4736-afe7-5d1bd72e629e",
    "scrolled": true
   },
   "outputs": [
    {
     "name": "stdout",
     "output_type": "stream",
     "text": [
      "                 id    COS2_1    COS2_2\n",
      "3   Citroen GS Club  0.976992  0.001879\n",
      "9    Toyota Corolla  0.975219  0.003426\n",
      "17        Lada 1300  0.926052  0.002607\n",
      "8        Renault 30  0.892431  0.051920\n",
      "16      Opel Rekord  0.861900  0.001790\n",
      "12      Datsun 200L  0.778390  0.028137\n",
      "13      Taunus 2000  0.704819  0.096496\n",
      "7     Renault 16 TL  0.673539  0.170535\n",
      "2        Simca 1300  0.580284  0.210694\n",
      "0        Alfasud TI  0.556218  0.387670\n",
      "11    Princess 1800  0.530947  0.362855\n",
      "1          Audi 100  0.365334  0.349406\n",
      "6       Peugeot 504  0.309202  0.575488\n",
      "14           Rancho  0.243273  0.410469\n",
      "15       Mazda 9295  0.217336  0.185337\n",
      "4          Fiat 132  0.156579  0.413826\n",
      "5       Lancia Beta  0.081555  0.033900\n",
      "10     Alfetta 1.66  0.042978  0.820652\n",
      "\n",
      "--------------------------------------------------------------------------------\n",
      "\n",
      "                 id    COS2_1    COS2_2\n",
      "10     Alfetta 1.66  0.042978  0.820652\n",
      "6       Peugeot 504  0.309202  0.575488\n",
      "4          Fiat 132  0.156579  0.413826\n",
      "14           Rancho  0.243273  0.410469\n",
      "0        Alfasud TI  0.556218  0.387670\n",
      "11    Princess 1800  0.530947  0.362855\n",
      "1          Audi 100  0.365334  0.349406\n",
      "2        Simca 1300  0.580284  0.210694\n",
      "15       Mazda 9295  0.217336  0.185337\n",
      "7     Renault 16 TL  0.673539  0.170535\n",
      "13      Taunus 2000  0.704819  0.096496\n",
      "8        Renault 30  0.892431  0.051920\n",
      "5       Lancia Beta  0.081555  0.033900\n",
      "12      Datsun 200L  0.778390  0.028137\n",
      "9    Toyota Corolla  0.975219  0.003426\n",
      "17        Lada 1300  0.926052  0.002607\n",
      "3   Citroen GS Club  0.976992  0.001879\n",
      "16      Opel Rekord  0.861900  0.001790\n"
     ]
    }
   ],
   "source": [
    "scores_squared = C**2\n",
    "cos2 = list(map(lambda s, d: s/d, scores_squared, di))\n",
    "\n",
    "qual_axe_1 = list(map(lambda r: r[0], cos2))\n",
    "qual_axe_2 = list(map(lambda r: r[1], cos2))\n",
    "\n",
    "print(pd.DataFrame({'id':df.index,'COS2_1': qual_axe_1,'COS2_2': qual_axe_2}).sort_values(by=\"COS2_1\", ascending=False))\n",
    "print(\"\\n\" + \"-\"*80 + \"\\n\")\n",
    "print(pd.DataFrame({'id':df.index,'COS2_1': qual_axe_1,'COS2_2': qual_axe_2}).sort_values(by=\"COS2_2\", ascending=False))"
   ]
  },
  {
   "cell_type": "code",
   "execution_count": 16,
   "metadata": {
    "colab": {
     "base_uri": "https://localhost:8080/"
    },
    "executionInfo": {
     "elapsed": 2184,
     "status": "ok",
     "timestamp": 1618192995175,
     "user": {
      "displayName": "Philip Gaudreau",
      "photoUrl": "https://lh3.googleusercontent.com/a-/AOh14GjQb0upxp0LCvoolcDAHmb5yXNhi61puVeiEc6Ukw=s64",
      "userId": "15812446078417422955"
     },
     "user_tz": 240
    },
    "id": "lQoMEpMywD3Q",
    "outputId": "c65ee517-1b18-45c8-df91-29b81dd55253"
   },
   "outputs": [
    {
     "name": "stdout",
     "output_type": "stream",
     "text": [
      "Somme de la qualité premier axe:9.873048794028902\n",
      "Somme de la qualité deuxième axe:4.10708861747759\n"
     ]
    }
   ],
   "source": [
    "print(\"Somme de la qualité premier axe:\" + str(sum(qual_axe_1)) + \"\\nSomme de la qualité deuxième axe:\" + str(sum(qual_axe_2)))"
   ]
  },
  {
   "cell_type": "markdown",
   "metadata": {
    "id": "YAlG1KIDwD3Q"
   },
   "source": [
    "_Pusiqu'il s'agit du $\\cos^2$, les valeurs se situent dans la fourchette [0,1]. Si le $\\cos^2$ est près de 1, alors l'individu est bien représenté par l'axe. Ainsi, on peut voir sur les deux tableau que pour le premier axe, certain individus sont très bien représentés alors que d'autres aucunement, comme c'est le cas pour `Alfetta 1.66`. On peut faire le même exercice pour le deuxième axe. On peut remarquer aussi que ce n'est pas parce qu'un individu est bien représenté sur le premier axe qu'il l'est aussi sur le deuxième. Enfin, on peut voir que la qualité est en générale meilleur sur le premier axe que sur le deuxième. En effet, la somme de la qualité est plus de deux fois supérieure pour le premier axe._"
   ]
  },
  {
   "cell_type": "markdown",
   "metadata": {
    "id": "cLDPVyUJwD3Q"
   },
   "source": [
    "### Bonus - Contribution des individus sur les axes\n",
    "## $Ctr(i,a) = \\frac {(c_\\alpha^i)^2} {\\lambda _\\alpha} = \\frac {(\\mbox{Score de i sur l'axe }\\alpha)^2} {N \\lambda_\\alpha}$"
   ]
  },
  {
   "cell_type": "code",
   "execution_count": 17,
   "metadata": {
    "colab": {
     "base_uri": "https://localhost:8080/"
    },
    "executionInfo": {
     "elapsed": 2181,
     "status": "ok",
     "timestamp": 1618192995176,
     "user": {
      "displayName": "Philip Gaudreau",
      "photoUrl": "https://lh3.googleusercontent.com/a-/AOh14GjQb0upxp0LCvoolcDAHmb5yXNhi61puVeiEc6Ukw=s64",
      "userId": "15812446078417422955"
     },
     "user_tz": 240
    },
    "id": "94RTyKoqwD3Q",
    "outputId": "66b4b950-1196-4e45-f048-008f88d78b7b"
   },
   "outputs": [
    {
     "name": "stdout",
     "output_type": "stream",
     "text": [
      "                 id     CTR_1     CTR_2\n",
      "8        Renault 30  0.244369  0.073419\n",
      "9    Toyota Corolla  0.199640  0.003622\n",
      "12      Datsun 200L  0.108701  0.020292\n",
      "17        Lada 1300  0.092194  0.001340\n",
      "3   Citroen GS Club  0.083244  0.000827\n",
      "16      Opel Rekord  0.065888  0.000707\n",
      "0        Alfasud TI  0.057493  0.206933\n",
      "7     Renault 16 TL  0.047711  0.062384\n",
      "1          Audi 100  0.030640  0.151329\n",
      "13      Taunus 2000  0.021727  0.015361\n",
      "2        Simca 1300  0.015746  0.029525\n",
      "11    Princess 1800  0.013028  0.045978\n",
      "14           Rancho  0.006002  0.052300\n",
      "6       Peugeot 504  0.005878  0.056499\n",
      "10     Alfetta 1.66  0.002407  0.237357\n",
      "4          Fiat 132  0.002300  0.031398\n",
      "15       Mazda 9295  0.001870  0.008233\n",
      "5       Lancia Beta  0.001163  0.002497\n",
      "\n",
      "--------------------------------------------------------------------------------\n",
      "\n",
      "                 id     CTR_1     CTR_2\n",
      "10     Alfetta 1.66  0.002407  0.237357\n",
      "0        Alfasud TI  0.057493  0.206933\n",
      "1          Audi 100  0.030640  0.151329\n",
      "8        Renault 30  0.244369  0.073419\n",
      "7     Renault 16 TL  0.047711  0.062384\n",
      "6       Peugeot 504  0.005878  0.056499\n",
      "14           Rancho  0.006002  0.052300\n",
      "11    Princess 1800  0.013028  0.045978\n",
      "4          Fiat 132  0.002300  0.031398\n",
      "2        Simca 1300  0.015746  0.029525\n",
      "12      Datsun 200L  0.108701  0.020292\n",
      "13      Taunus 2000  0.021727  0.015361\n",
      "15       Mazda 9295  0.001870  0.008233\n",
      "9    Toyota Corolla  0.199640  0.003622\n",
      "5       Lancia Beta  0.001163  0.002497\n",
      "17        Lada 1300  0.092194  0.001340\n",
      "3   Citroen GS Club  0.083244  0.000827\n",
      "16      Opel Rekord  0.065888  0.000707\n"
     ]
    }
   ],
   "source": [
    "contrib = list(map(lambda s : s / (df.shape[0] * eigen_values), scores_squared))\n",
    "\n",
    "contrib_axe_1 = list(map(lambda r: r[0], contrib))\n",
    "contrib_axe_2 = list(map(lambda r: r[1], contrib))\n",
    "\n",
    "print(pd.DataFrame({'id':df.index,'CTR_1': contrib_axe_1,'CTR_2': contrib_axe_2}).sort_values(by=\"CTR_1\", ascending=False))\n",
    "print(\"\\n\" + \"-\"*80 + \"\\n\")\n",
    "print(pd.DataFrame({'id':df.index,'CTR_1': contrib_axe_1,'CTR_2': contrib_axe_2}).sort_values(by=\"CTR_2\", ascending=False))"
   ]
  },
  {
   "cell_type": "markdown",
   "metadata": {
    "id": "A_ILIh-pwD3U"
   },
   "source": [
    "_Sur les deux tableaux précédents, nous avons un classement en fonction de la contribution de chaque individu pour chaque axe. Le premier tableau est classé par rapport au premier axe, et le deuxième par rapport aux deuxième axe. Les individus se trouvant au haut de la liste sont déterminants pour cet axe._"
   ]
  },
  {
   "cell_type": "markdown",
   "metadata": {
    "id": "kufeHYdPwD3U"
   },
   "source": [
    "### 6- Représentation du cercle de corrélation des variables\n",
    "## $r(c,x^j) = \\sqrt{\\lambda} u_i$"
   ]
  },
  {
   "cell_type": "code",
   "execution_count": 18,
   "metadata": {
    "colab": {
     "base_uri": "https://localhost:8080/"
    },
    "executionInfo": {
     "elapsed": 2177,
     "status": "ok",
     "timestamp": 1618192995176,
     "user": {
      "displayName": "Philip Gaudreau",
      "photoUrl": "https://lh3.googleusercontent.com/a-/AOh14GjQb0upxp0LCvoolcDAHmb5yXNhi61puVeiEc6Ukw=s64",
      "userId": "15812446078417422955"
     },
     "user_tz": 240
    },
    "id": "xDFpKvqDwD3U",
    "outputId": "c4edecd4-a38c-445d-c036-e3694a1a4e6e"
   },
   "outputs": [
    {
     "name": "stdout",
     "output_type": "stream",
     "text": [
      "      id     COR_1     COR_2\n",
      "4  POIDS  0.905187  0.224532\n",
      "0    CYL  0.893464  0.114906\n",
      "1  PUISS  0.886858  0.384689\n",
      "2   LONG  0.886155  0.381029\n",
      "3   LARG  0.813536  0.412736\n",
      "5  V.MAX  0.754710  0.573519\n",
      "\n",
      "--------------------------------------------------------------------------------\n",
      "\n",
      "      id     COR_1     COR_2\n",
      "5  V.MAX  0.754710  0.573519\n",
      "3   LARG  0.813536  0.412736\n",
      "1  PUISS  0.886858  0.384689\n",
      "2   LONG  0.886155  0.381029\n",
      "4  POIDS  0.905187  0.224532\n",
      "0    CYL  0.893464  0.114906\n"
     ]
    }
   ],
   "source": [
    "sqrt_eigenvalues = np.sqrt(eigen_values)\n",
    "coef_corr_lin = np.array(list(map(lambda v: v * sqrt_eigenvalues, eigen_vectors)))\n",
    "\n",
    "coef_corr_lin_axe_1 = list(map(lambda r: abs(r[0]), coef_corr_lin))\n",
    "coef_corr_lin_axe_2 = list(map(lambda r: abs(r[1]), coef_corr_lin))\n",
    "\n",
    "print(pd.DataFrame({'id':df.columns,'COR_1': coef_corr_lin_axe_1,'COR_2': coef_corr_lin_axe_2}).sort_values(by=\"COR_1\", ascending=False))\n",
    "print(\"\\n\" + \"-\"*80 + \"\\n\")\n",
    "print(pd.DataFrame({'id':df.columns,'COR_1': coef_corr_lin_axe_1,'COR_2': coef_corr_lin_axe_2}).sort_values(by=\"COR_2\", ascending=False))\n"
   ]
  },
  {
   "cell_type": "markdown",
   "metadata": {
    "id": "ayKdn5m_wD3U"
   },
   "source": [
    "_Selon ce que l'on obtient, les variables sont toute assez bien correlées avec la première composante principale. Par contre, pour ce qui est de la deuxième composante principale, les corrélations sont plus faibles. Seul `V.MAX` est au dessus de 0.5._"
   ]
  },
  {
   "cell_type": "code",
   "execution_count": 19,
   "metadata": {
    "colab": {
     "base_uri": "https://localhost:8080/",
     "height": 487
    },
    "executionInfo": {
     "elapsed": 2546,
     "status": "ok",
     "timestamp": 1618192995549,
     "user": {
      "displayName": "Philip Gaudreau",
      "photoUrl": "https://lh3.googleusercontent.com/a-/AOh14GjQb0upxp0LCvoolcDAHmb5yXNhi61puVeiEc6Ukw=s64",
      "userId": "15812446078417422955"
     },
     "user_tz": 240
    },
    "id": "o5qyz73QwD3V",
    "outputId": "d12c31d9-4d8a-4de3-d26b-a9ac20b82fac"
   },
   "outputs": [
    {
     "data": {
      "image/png": "[encoded data removed]",
      "text/plain": [
       "<Figure size 576x576 with 1 Axes>"
      ]
     },
     "metadata": {
      "needs_background": "light"
     },
     "output_type": "display_data"
    }
   ],
   "source": [
    "#cercle des corrélations\n",
    "fig, axes = plt.subplots(figsize=(8,8))\n",
    "axes.set_xlim(-1,1)\n",
    "axes.set_ylim(-1,1)\n",
    "\n",
    "#affichage des étiquettes (noms des variables)\n",
    "for i in range(df.shape[1]):\n",
    " plt.annotate(df.columns[i],(coef_corr_lin[i,0],coef_corr_lin[i,1]))\n",
    "\n",
    "#ajouter les axes\n",
    "plt.plot([-1,1],[0,0],color='silver',linestyle='-',linewidth=1)\n",
    "plt.plot([0,0],[-1,1],color='silver',linestyle='-',linewidth=1)\n",
    "\n",
    "#ajouter un cercle\n",
    "cercle = plt.Circle((0,0),1,color='red',fill=False)\n",
    "axes.add_artist(cercle)\n",
    "\n",
    "plt.show()"
   ]
  },
  {
   "cell_type": "code",
   "execution_count": 20,
   "metadata": {
    "colab": {
     "base_uri": "https://localhost:8080/",
     "height": 235
    },
    "executionInfo": {
     "elapsed": 2542,
     "status": "ok",
     "timestamp": 1618192995550,
     "user": {
      "displayName": "Philip Gaudreau",
      "photoUrl": "https://lh3.googleusercontent.com/a-/AOh14GjQb0upxp0LCvoolcDAHmb5yXNhi61puVeiEc6Ukw=s64",
      "userId": "15812446078417422955"
     },
     "user_tz": 240
    },
    "id": "b20_7DQDwD3V",
    "outputId": "f1205af1-ae7f-478a-84ef-4ab7a8cb133c"
   },
   "outputs": [
    {
     "data": {
      "text/html": [
       "<div>\n",
       "<style scoped>\n",
       "    .dataframe tbody tr th:only-of-type {\n",
       "        vertical-align: middle;\n",
       "    }\n",
       "\n",
       "    .dataframe tbody tr th {\n",
       "        vertical-align: top;\n",
       "    }\n",
       "\n",
       "    .dataframe thead th {\n",
       "        text-align: right;\n",
       "    }\n",
       "</style>\n",
       "<table border=\"1\" class=\"dataframe\">\n",
       "  <thead>\n",
       "    <tr style=\"text-align: right;\">\n",
       "      <th></th>\n",
       "      <th>CYL</th>\n",
       "      <th>PUISS</th>\n",
       "      <th>LONG</th>\n",
       "      <th>LARG</th>\n",
       "      <th>POIDS</th>\n",
       "      <th>V.MAX</th>\n",
       "    </tr>\n",
       "  </thead>\n",
       "  <tbody>\n",
       "    <tr>\n",
       "      <th>CYL</th>\n",
       "      <td>1.000000</td>\n",
       "      <td>0.796628</td>\n",
       "      <td>0.701462</td>\n",
       "      <td>0.629757</td>\n",
       "      <td>0.788952</td>\n",
       "      <td>0.664934</td>\n",
       "    </tr>\n",
       "    <tr>\n",
       "      <th>PUISS</th>\n",
       "      <td>0.796628</td>\n",
       "      <td>1.000000</td>\n",
       "      <td>0.641362</td>\n",
       "      <td>0.520832</td>\n",
       "      <td>0.765293</td>\n",
       "      <td>0.844379</td>\n",
       "    </tr>\n",
       "    <tr>\n",
       "      <th>LONG</th>\n",
       "      <td>0.701462</td>\n",
       "      <td>0.641362</td>\n",
       "      <td>1.000000</td>\n",
       "      <td>0.849266</td>\n",
       "      <td>0.868090</td>\n",
       "      <td>0.475928</td>\n",
       "    </tr>\n",
       "    <tr>\n",
       "      <th>LARG</th>\n",
       "      <td>0.629757</td>\n",
       "      <td>0.520832</td>\n",
       "      <td>0.849266</td>\n",
       "      <td>1.000000</td>\n",
       "      <td>0.716874</td>\n",
       "      <td>0.472945</td>\n",
       "    </tr>\n",
       "    <tr>\n",
       "      <th>POIDS</th>\n",
       "      <td>0.788952</td>\n",
       "      <td>0.765293</td>\n",
       "      <td>0.868090</td>\n",
       "      <td>0.716874</td>\n",
       "      <td>1.000000</td>\n",
       "      <td>0.477596</td>\n",
       "    </tr>\n",
       "    <tr>\n",
       "      <th>V.MAX</th>\n",
       "      <td>0.664934</td>\n",
       "      <td>0.844379</td>\n",
       "      <td>0.475928</td>\n",
       "      <td>0.472945</td>\n",
       "      <td>0.477596</td>\n",
       "      <td>1.000000</td>\n",
       "    </tr>\n",
       "  </tbody>\n",
       "</table>\n",
       "</div>"
      ],
      "text/plain": [
       "            CYL     PUISS      LONG      LARG     POIDS     V.MAX\n",
       "CYL    1.000000  0.796628  0.701462  0.629757  0.788952  0.664934\n",
       "PUISS  0.796628  1.000000  0.641362  0.520832  0.765293  0.844379\n",
       "LONG   0.701462  0.641362  1.000000  0.849266  0.868090  0.475928\n",
       "LARG   0.629757  0.520832  0.849266  1.000000  0.716874  0.472945\n",
       "POIDS  0.788952  0.765293  0.868090  0.716874  1.000000  0.477596\n",
       "V.MAX  0.664934  0.844379  0.475928  0.472945  0.477596  1.000000"
      ]
     },
     "execution_count": 20,
     "metadata": {},
     "output_type": "execute_result"
    }
   ],
   "source": [
    "df.corr()"
   ]
  },
  {
   "cell_type": "code",
   "execution_count": 21,
   "metadata": {
    "colab": {
     "base_uri": "https://localhost:8080/",
     "height": 286
    },
    "executionInfo": {
     "elapsed": 2818,
     "status": "ok",
     "timestamp": 1618192995830,
     "user": {
      "displayName": "Philip Gaudreau",
      "photoUrl": "https://lh3.googleusercontent.com/a-/AOh14GjQb0upxp0LCvoolcDAHmb5yXNhi61puVeiEc6Ukw=s64",
      "userId": "15812446078417422955"
     },
     "user_tz": 240
    },
    "id": "QGpAx8CEwD3V",
    "outputId": "b604c137-87d0-49b7-d605-d275a066f95c",
    "scrolled": true
   },
   "outputs": [
    {
     "data": {
      "text/plain": [
       "<AxesSubplot:>"
      ]
     },
     "execution_count": 21,
     "metadata": {},
     "output_type": "execute_result"
    },
    {
     "data": {
      "image/png": "[encoded data removed]",
      "text/plain": [
       "<Figure size 432x288 with 2 Axes>"
      ]
     },
     "metadata": {
      "needs_background": "light"
     },
     "output_type": "display_data"
    }
   ],
   "source": [
    "import seaborn\n",
    "seaborn.heatmap(df.corr())"
   ]
  },
  {
   "cell_type": "markdown",
   "metadata": {
    "id": "xbtFeUSIwD3V"
   },
   "source": [
    "_On remarque que que `LONG` et `LARG` sont groupées, signalant une ressemblance dans ces variables. Ces deux variables sont elles-mêmes à l'opposé de `V.MAX` et `PUIS` sur le deuxième axe principal. Du reste, on peut voir que par rapport au premier axe, toutes les variables sont près de du bord, ce qui signifie de bonnes corrélations, ce qui est normal étant donné qu'il s'agit de la composante principale._"
   ]
  },
  {
   "cell_type": "markdown",
   "metadata": {
    "id": "lx8TQ-JIwD3W"
   },
   "source": [
    "### 7- Évaluation de la qualité de représentation des variables\n",
    "## $Qlt(j,k) = \\cos^2 = r^2(c, x^j)$"
   ]
  },
  {
   "cell_type": "code",
   "execution_count": 22,
   "metadata": {
    "colab": {
     "base_uri": "https://localhost:8080/"
    },
    "executionInfo": {
     "elapsed": 2815,
     "status": "ok",
     "timestamp": 1618192995831,
     "user": {
      "displayName": "Philip Gaudreau",
      "photoUrl": "https://lh3.googleusercontent.com/a-/AOh14GjQb0upxp0LCvoolcDAHmb5yXNhi61puVeiEc6Ukw=s64",
      "userId": "15812446078417422955"
     },
     "user_tz": 240
    },
    "id": "jhIHOQBUwD3W",
    "outputId": "7d31dda7-6a66-4014-e4ff-70258039be29"
   },
   "outputs": [
    {
     "name": "stdout",
     "output_type": "stream",
     "text": [
      "      id    COS2_1    COS2_2\n",
      "4  POIDS  0.819364  0.050415\n",
      "0    CYL  0.798277  0.013203\n",
      "1  PUISS  0.786517  0.147986\n",
      "2   LONG  0.785270  0.145183\n",
      "3   LARG  0.661841  0.170351\n",
      "5  V.MAX  0.569588  0.328925\n",
      "\n",
      "--------------------------------------------------------------------------------\n",
      "\n",
      "      id    COS2_1    COS2_2\n",
      "5  V.MAX  0.569588  0.328925\n",
      "3   LARG  0.661841  0.170351\n",
      "1  PUISS  0.786517  0.147986\n",
      "2   LONG  0.785270  0.145183\n",
      "4  POIDS  0.819364  0.050415\n",
      "0    CYL  0.798277  0.013203\n"
     ]
    }
   ],
   "source": [
    "cos2_coef_corr_lin = coef_corr_lin ** 2\n",
    "\n",
    "cos2_coef_corr_lin_axe_1 = list(map(lambda r: r[0], cos2_coef_corr_lin))\n",
    "cos2_coef_corr_lin_axe_2 = list(map(lambda r: r[1], cos2_coef_corr_lin))\n",
    "\n",
    "print(pd.DataFrame({'id':df.columns,'COS2_1': cos2_coef_corr_lin_axe_1,'COS2_2': cos2_coef_corr_lin_axe_2}).sort_values(by=\"COS2_1\", ascending=False))\n",
    "print(\"\\n\" + \"-\"*80 + \"\\n\")\n",
    "print(pd.DataFrame({'id':df.columns,'COS2_1': cos2_coef_corr_lin_axe_1,'COS2_2': cos2_coef_corr_lin_axe_2}).sort_values(by=\"COS2_2\", ascending=False))"
   ]
  },
  {
   "cell_type": "markdown",
   "metadata": {
    "id": "_PaZqROnwD3W"
   },
   "source": [
    "_Pour le premier axe, on peut voire que `V.MAX` est plus ou moins bien représentée, alors que pour le deuxième axe, toutes les variables ont une mauvaise représentation._"
   ]
  },
  {
   "cell_type": "markdown",
   "metadata": {
    "id": "IAUMiKe8wD3W"
   },
   "source": [
    "### 8- Calcul de la contribution de chaque variable aux deux premiers axes factoriels\n",
    "## $Ctr(j,k) = \\frac {r^2(c, x^j)} {\\lambda_k}$"
   ]
  },
  {
   "cell_type": "code",
   "execution_count": 23,
   "metadata": {
    "colab": {
     "base_uri": "https://localhost:8080/"
    },
    "executionInfo": {
     "elapsed": 2932,
     "status": "ok",
     "timestamp": 1618192995952,
     "user": {
      "displayName": "Philip Gaudreau",
      "photoUrl": "https://lh3.googleusercontent.com/a-/AOh14GjQb0upxp0LCvoolcDAHmb5yXNhi61puVeiEc6Ukw=s64",
      "userId": "15812446078417422955"
     },
     "user_tz": 240
    },
    "id": "k7otuRq-wD3X",
    "outputId": "f890c792-238f-4c3f-f709-7592521b307a"
   },
   "outputs": [
    {
     "name": "stdout",
     "output_type": "stream",
     "text": [
      "      id     CTR_1     CTR_2\n",
      "4  POIDS  0.185341  0.058892\n",
      "0    CYL  0.180571  0.015423\n",
      "1  PUISS  0.177911  0.172868\n",
      "2   LONG  0.177628  0.169594\n",
      "3   LARG  0.149709  0.198994\n",
      "5  V.MAX  0.128841  0.384230\n",
      "\n",
      "--------------------------------------------------------------------------------\n",
      "\n",
      "      id     CTR_1     CTR_2\n",
      "5  V.MAX  0.128841  0.384230\n",
      "3   LARG  0.149709  0.198994\n",
      "1  PUISS  0.177911  0.172868\n",
      "2   LONG  0.177628  0.169594\n",
      "4  POIDS  0.185341  0.058892\n",
      "0    CYL  0.180571  0.015423\n"
     ]
    }
   ],
   "source": [
    "ctr_var = (cos2_coef_corr_lin / eigen_values)\n",
    "\n",
    "ctr_var_axe_1 = list(map(lambda r: r[0], ctr_var))\n",
    "ctr_var_axe_2 = list(map(lambda r: r[1], ctr_var))\n",
    "\n",
    "print(pd.DataFrame({'id':df.columns,'CTR_1': ctr_var_axe_1,'CTR_2': ctr_var_axe_2}).sort_values(by=\"CTR_1\", ascending=False))\n",
    "print(\"\\n\" + \"-\"*80 + \"\\n\")\n",
    "print(pd.DataFrame({'id':df.columns,'CTR_1': ctr_var_axe_1,'CTR_2': ctr_var_axe_2}).sort_values(by=\"CTR_2\", ascending=False))"
   ]
  },
  {
   "cell_type": "markdown",
   "metadata": {
    "id": "Uf9Ek4REwD3X"
   },
   "source": [
    "_Sur le premier axe, les variables ont environ toutes la même contribution. Pour ce qui est du deuxième axe, il y a une grande dominance de `V.MAX` avec 0.38423 du poids total._"
   ]
  },
  {
   "cell_type": "markdown",
   "metadata": {
    "id": "zlPaD_OcwD3X"
   },
   "source": [
    "### 9- Projection d'individus supplémentaires"
   ]
  },
  {
   "cell_type": "code",
   "execution_count": 31,
   "metadata": {
    "colab": {
     "base_uri": "https://localhost:8080/",
     "height": 324
    },
    "executionInfo": {
     "elapsed": 3481,
     "status": "error",
     "timestamp": 1618192996505,
     "user": {
      "displayName": "Philip Gaudreau",
      "photoUrl": "https://lh3.googleusercontent.com/a-/AOh14GjQb0upxp0LCvoolcDAHmb5yXNhi61puVeiEc6Ukw=s64",
      "userId": "15812446078417422955"
     },
     "user_tz": 240
    },
    "id": "1TIf9j_mwD3X",
    "outputId": "55f051e2-1670-4336-f2b9-7040d008c557"
   },
   "outputs": [
    {
     "data": {
      "text/html": [
       "<div>\n",
       "<style scoped>\n",
       "    .dataframe tbody tr th:only-of-type {\n",
       "        vertical-align: middle;\n",
       "    }\n",
       "\n",
       "    .dataframe tbody tr th {\n",
       "        vertical-align: top;\n",
       "    }\n",
       "\n",
       "    .dataframe thead th {\n",
       "        text-align: right;\n",
       "    }\n",
       "</style>\n",
       "<table border=\"1\" class=\"dataframe\">\n",
       "  <thead>\n",
       "    <tr style=\"text-align: right;\">\n",
       "      <th></th>\n",
       "      <th>CYL</th>\n",
       "      <th>PUISS</th>\n",
       "      <th>LONG</th>\n",
       "      <th>LARG</th>\n",
       "      <th>POIDS</th>\n",
       "      <th>V.MAX</th>\n",
       "    </tr>\n",
       "    <tr>\n",
       "      <th>Modele</th>\n",
       "      <th></th>\n",
       "      <th></th>\n",
       "      <th></th>\n",
       "      <th></th>\n",
       "      <th></th>\n",
       "      <th></th>\n",
       "    </tr>\n",
       "  </thead>\n",
       "  <tbody>\n",
       "    <tr>\n",
       "      <th>Alfasud TI</th>\n",
       "      <td>1350</td>\n",
       "      <td>79</td>\n",
       "      <td>393</td>\n",
       "      <td>161</td>\n",
       "      <td>870</td>\n",
       "      <td>165</td>\n",
       "    </tr>\n",
       "    <tr>\n",
       "      <th>Audi 100</th>\n",
       "      <td>1588</td>\n",
       "      <td>85</td>\n",
       "      <td>468</td>\n",
       "      <td>177</td>\n",
       "      <td>1110</td>\n",
       "      <td>160</td>\n",
       "    </tr>\n",
       "    <tr>\n",
       "      <th>Simca 1300</th>\n",
       "      <td>1294</td>\n",
       "      <td>68</td>\n",
       "      <td>424</td>\n",
       "      <td>168</td>\n",
       "      <td>1050</td>\n",
       "      <td>152</td>\n",
       "    </tr>\n",
       "    <tr>\n",
       "      <th>Citroen GS Club</th>\n",
       "      <td>1222</td>\n",
       "      <td>59</td>\n",
       "      <td>412</td>\n",
       "      <td>161</td>\n",
       "      <td>930</td>\n",
       "      <td>151</td>\n",
       "    </tr>\n",
       "    <tr>\n",
       "      <th>Fiat 132</th>\n",
       "      <td>1585</td>\n",
       "      <td>98</td>\n",
       "      <td>439</td>\n",
       "      <td>164</td>\n",
       "      <td>1105</td>\n",
       "      <td>165</td>\n",
       "    </tr>\n",
       "  </tbody>\n",
       "</table>\n",
       "</div>"
      ],
      "text/plain": [
       "                  CYL  PUISS  LONG  LARG  POIDS  V.MAX\n",
       "Modele                                                \n",
       "Alfasud TI       1350     79   393   161    870    165\n",
       "Audi 100         1588     85   468   177   1110    160\n",
       "Simca 1300       1294     68   424   168   1050    152\n",
       "Citroen GS Club  1222     59   412   161    930    151\n",
       "Fiat 132         1585     98   439   164   1105    165"
      ]
     },
     "metadata": {},
     "output_type": "display_data"
    }
   ],
   "source": [
    "indSupp = pd.read_excel(\"autos-Saporta-Supp.xlsx\", header=0, index_col=0, engine='openpyxl')\n",
    "display(df.head())"
   ]
  },
  {
   "cell_type": "code",
   "execution_count": 32,
   "metadata": {
    "id": "Nqg283HPwD3X"
   },
   "outputs": [
    {
     "name": "stdout",
     "output_type": "stream",
     "text": [
      "[[ 2.84080623  2.59511201  1.79199036  2.0010414   2.48812166  1.84112668]\n",
      " [-0.94571238 -0.53585556 -0.90763148 -1.87194195 -1.23091273  0.14597168]]\n"
     ]
    }
   ],
   "source": [
    "standardizedSupp = scaler.transform(indSupp)\n",
    "print(standardizedSupp)"
   ]
  },
  {
   "cell_type": "code",
   "execution_count": 33,
   "metadata": {
    "id": "liCz5ze6wD3Y"
   },
   "outputs": [
    {
     "name": "stdout",
     "output_type": "stream",
     "text": [
      "[[ 5.56329226  0.33860928 -0.46428878  0.40214608 -0.38981076 -0.08102064]\n",
      " [-2.21224139  1.25777905 -0.09304388 -0.35370189  0.648528    0.12473042]]\n"
     ]
    }
   ],
   "source": [
    "coordSupp = acp.transform(standardizedSupp)\n",
    "print(coordSupp)"
   ]
  },
  {
   "cell_type": "code",
   "execution_count": 34,
   "metadata": {
    "id": "P6wn2pr8wD3Y",
    "scrolled": false
   },
   "outputs": [
    {
     "data": {
      "image/png": "[encoded data removed]",
      "text/plain": [
       "<Figure size 864x864 with 1 Axes>"
      ]
     },
     "metadata": {
      "needs_background": "light"
     },
     "output_type": "display_data"
    }
   ],
   "source": [
    "fig, axes = plt.subplots(figsize=(12,12))\n",
    "axes.set_xlim(-6,6) #même limites en abscisse\n",
    "axes.set_ylim(-6,6) #et en ordonnée\n",
    "\n",
    "#placement des étiquettes des observations\n",
    "for i in range((df.shape[0])):\n",
    " # i correspond à la ligne, 0 à la cp1 et 1 à la cp2\n",
    " plt.annotate(df.index[i],(C[i,0],C[i,1]))\n",
    "    \n",
    "#placement des étiquettes des nouvelles observations\n",
    "for i in range(coordSupp.shape[0]):\n",
    " plt.annotate(indSupp.index[i],(coordSupp[i,0],coordSupp[i,1]),color='red')\n",
    "\n",
    "#ajouter les axes\n",
    "plt.plot([-6,6],[0,0],color='silver',linestyle='-',linewidth=1)\n",
    "plt.plot([0,0],[-6,6],color='silver',linestyle='-',linewidth=1)\n",
    "\n",
    "plt.show()"
   ]
  },
  {
   "cell_type": "markdown",
   "metadata": {
    "id": "TxXhOuRHwD3Y"
   },
   "source": [
    "_`Peugeot 304 S` se rapproche de `Alfasud TI` sur les deux axes principaux, alors que `Peugeot 604` est plus près de `Renault 30`._"
   ]
  },
  {
   "cell_type": "code",
   "execution_count": 37,
   "metadata": {
    "id": "rkUlw7dQwD3Y"
   },
   "outputs": [
    {
     "data": {
      "image/png": "[encoded data removed]",
      "text/plain": [
       "<Figure size 720x720 with 1 Axes>"
      ]
     },
     "metadata": {
      "needs_background": "light"
     },
     "output_type": "display_data"
    }
   ],
   "source": [
    "from fanalysis.pca import PCA\n",
    "pca = PCA(std_unit=True,row_labels=df.index,col_labels=df.columns)\n",
    "pca.fit_transform(standardized)\n",
    "pca.correlation_circle(num_x_axis=1,num_y_axis=2, figsize=(10,10))"
   ]
  },
  {
   "cell_type": "code",
   "execution_count": 38,
   "metadata": {
    "id": "z-TNNUPPwD3Z",
    "scrolled": false
   },
   "outputs": [
    {
     "data": {
      "image/png": "[encoded data removed]",
      "text/plain": [
       "<Figure size 720x720 with 1 Axes>"
      ]
     },
     "metadata": {
      "needs_background": "light"
     },
     "output_type": "display_data"
    }
   ],
   "source": [
    "pca.mapping_row(num_x_axis=1,num_y_axis=2,figsize=(10,10))"
   ]
  }
 ],
 "metadata": {
  "colab": {
   "name": "gaudreau_philip_ACP_suite.ipynb",
   "provenance": []
  },
  "kernelspec": {
   "display_name": "Python 3",
   "language": "python",
   "name": "python3"
  },
  "language_info": {
   "codemirror_mode": {
    "name": "ipython",
    "version": 3
   },
   "file_extension": ".py",
   "mimetype": "text/x-python",
   "name": "python",
   "nbconvert_exporter": "python",
   "pygments_lexer": "ipython3",
   "version": "3.9.7"
  }
 },
 "nbformat": 4,
 "nbformat_minor": 1
}
