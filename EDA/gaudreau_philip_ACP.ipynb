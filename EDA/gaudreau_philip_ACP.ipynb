{
 "cells": [
  {
   "cell_type": "code",
   "execution_count": 1,
   "metadata": {},
   "outputs": [],
   "source": [
    "import numpy as np\n",
    "import pandas as pd\n",
    "import matplotlib.pyplot as plt\n",
    "from sklearn import preprocessing\n",
    "import math\n",
    "\n",
    "from sklearn.decomposition import PCA"
   ]
  },
  {
   "cell_type": "markdown",
   "metadata": {},
   "source": [
    "## Étape 1\n",
    "### 1- Lecture des données"
   ]
  },
  {
   "cell_type": "code",
   "execution_count": 2,
   "metadata": {},
   "outputs": [
    {
     "data": {
      "text/html": [
       "<div>\n",
       "<style scoped>\n",
       "    .dataframe tbody tr th:only-of-type {\n",
       "        vertical-align: middle;\n",
       "    }\n",
       "\n",
       "    .dataframe tbody tr th {\n",
       "        vertical-align: top;\n",
       "    }\n",
       "\n",
       "    .dataframe thead th {\n",
       "        text-align: right;\n",
       "    }\n",
       "</style>\n",
       "<table border=\"1\" class=\"dataframe\">\n",
       "  <thead>\n",
       "    <tr style=\"text-align: right;\">\n",
       "      <th></th>\n",
       "      <th>CYL</th>\n",
       "      <th>PUISS</th>\n",
       "      <th>LONG</th>\n",
       "      <th>LARG</th>\n",
       "      <th>POIDS</th>\n",
       "      <th>V.MAX</th>\n",
       "    </tr>\n",
       "    <tr>\n",
       "      <th>Modele</th>\n",
       "      <th></th>\n",
       "      <th></th>\n",
       "      <th></th>\n",
       "      <th></th>\n",
       "      <th></th>\n",
       "      <th></th>\n",
       "    </tr>\n",
       "  </thead>\n",
       "  <tbody>\n",
       "    <tr>\n",
       "      <th>Alfasud TI</th>\n",
       "      <td>1350</td>\n",
       "      <td>79</td>\n",
       "      <td>393</td>\n",
       "      <td>161</td>\n",
       "      <td>870</td>\n",
       "      <td>165</td>\n",
       "    </tr>\n",
       "    <tr>\n",
       "      <th>Audi 100</th>\n",
       "      <td>1588</td>\n",
       "      <td>85</td>\n",
       "      <td>468</td>\n",
       "      <td>177</td>\n",
       "      <td>1110</td>\n",
       "      <td>160</td>\n",
       "    </tr>\n",
       "    <tr>\n",
       "      <th>Simca 1300</th>\n",
       "      <td>1294</td>\n",
       "      <td>68</td>\n",
       "      <td>424</td>\n",
       "      <td>168</td>\n",
       "      <td>1050</td>\n",
       "      <td>152</td>\n",
       "    </tr>\n",
       "    <tr>\n",
       "      <th>Citroen GS Club</th>\n",
       "      <td>1222</td>\n",
       "      <td>59</td>\n",
       "      <td>412</td>\n",
       "      <td>161</td>\n",
       "      <td>930</td>\n",
       "      <td>151</td>\n",
       "    </tr>\n",
       "    <tr>\n",
       "      <th>Fiat 132</th>\n",
       "      <td>1585</td>\n",
       "      <td>98</td>\n",
       "      <td>439</td>\n",
       "      <td>164</td>\n",
       "      <td>1105</td>\n",
       "      <td>165</td>\n",
       "    </tr>\n",
       "    <tr>\n",
       "      <th>Lancia Beta</th>\n",
       "      <td>1297</td>\n",
       "      <td>82</td>\n",
       "      <td>429</td>\n",
       "      <td>169</td>\n",
       "      <td>1080</td>\n",
       "      <td>160</td>\n",
       "    </tr>\n",
       "    <tr>\n",
       "      <th>Peugeot 504</th>\n",
       "      <td>1796</td>\n",
       "      <td>79</td>\n",
       "      <td>449</td>\n",
       "      <td>169</td>\n",
       "      <td>1160</td>\n",
       "      <td>154</td>\n",
       "    </tr>\n",
       "    <tr>\n",
       "      <th>Renault 16 TL</th>\n",
       "      <td>1565</td>\n",
       "      <td>55</td>\n",
       "      <td>424</td>\n",
       "      <td>163</td>\n",
       "      <td>1010</td>\n",
       "      <td>140</td>\n",
       "    </tr>\n",
       "    <tr>\n",
       "      <th>Renault 30</th>\n",
       "      <td>2664</td>\n",
       "      <td>128</td>\n",
       "      <td>452</td>\n",
       "      <td>173</td>\n",
       "      <td>1320</td>\n",
       "      <td>180</td>\n",
       "    </tr>\n",
       "    <tr>\n",
       "      <th>Toyota Corolla</th>\n",
       "      <td>1166</td>\n",
       "      <td>55</td>\n",
       "      <td>399</td>\n",
       "      <td>157</td>\n",
       "      <td>815</td>\n",
       "      <td>140</td>\n",
       "    </tr>\n",
       "    <tr>\n",
       "      <th>Alfetta 1.66</th>\n",
       "      <td>1570</td>\n",
       "      <td>109</td>\n",
       "      <td>428</td>\n",
       "      <td>162</td>\n",
       "      <td>1060</td>\n",
       "      <td>175</td>\n",
       "    </tr>\n",
       "    <tr>\n",
       "      <th>Princess 1800</th>\n",
       "      <td>1798</td>\n",
       "      <td>82</td>\n",
       "      <td>445</td>\n",
       "      <td>172</td>\n",
       "      <td>1160</td>\n",
       "      <td>158</td>\n",
       "    </tr>\n",
       "    <tr>\n",
       "      <th>Datsun 200L</th>\n",
       "      <td>1998</td>\n",
       "      <td>115</td>\n",
       "      <td>469</td>\n",
       "      <td>169</td>\n",
       "      <td>1370</td>\n",
       "      <td>160</td>\n",
       "    </tr>\n",
       "    <tr>\n",
       "      <th>Taunus 2000</th>\n",
       "      <td>1993</td>\n",
       "      <td>98</td>\n",
       "      <td>438</td>\n",
       "      <td>170</td>\n",
       "      <td>1080</td>\n",
       "      <td>167</td>\n",
       "    </tr>\n",
       "    <tr>\n",
       "      <th>Rancho</th>\n",
       "      <td>1442</td>\n",
       "      <td>80</td>\n",
       "      <td>431</td>\n",
       "      <td>166</td>\n",
       "      <td>1129</td>\n",
       "      <td>144</td>\n",
       "    </tr>\n",
       "    <tr>\n",
       "      <th>Mazda 9295</th>\n",
       "      <td>1769</td>\n",
       "      <td>83</td>\n",
       "      <td>440</td>\n",
       "      <td>165</td>\n",
       "      <td>1095</td>\n",
       "      <td>165</td>\n",
       "    </tr>\n",
       "    <tr>\n",
       "      <th>Opel Rekord</th>\n",
       "      <td>1979</td>\n",
       "      <td>100</td>\n",
       "      <td>459</td>\n",
       "      <td>173</td>\n",
       "      <td>1120</td>\n",
       "      <td>173</td>\n",
       "    </tr>\n",
       "    <tr>\n",
       "      <th>Lada 1300</th>\n",
       "      <td>1294</td>\n",
       "      <td>68</td>\n",
       "      <td>404</td>\n",
       "      <td>161</td>\n",
       "      <td>955</td>\n",
       "      <td>140</td>\n",
       "    </tr>\n",
       "  </tbody>\n",
       "</table>\n",
       "</div>"
      ],
      "text/plain": [
       "                  CYL  PUISS  LONG  LARG  POIDS  V.MAX\n",
       "Modele                                                \n",
       "Alfasud TI       1350     79   393   161    870    165\n",
       "Audi 100         1588     85   468   177   1110    160\n",
       "Simca 1300       1294     68   424   168   1050    152\n",
       "Citroen GS Club  1222     59   412   161    930    151\n",
       "Fiat 132         1585     98   439   164   1105    165\n",
       "Lancia Beta      1297     82   429   169   1080    160\n",
       "Peugeot 504      1796     79   449   169   1160    154\n",
       "Renault 16 TL    1565     55   424   163   1010    140\n",
       "Renault 30       2664    128   452   173   1320    180\n",
       "Toyota Corolla   1166     55   399   157    815    140\n",
       "Alfetta 1.66     1570    109   428   162   1060    175\n",
       "Princess 1800    1798     82   445   172   1160    158\n",
       "Datsun 200L      1998    115   469   169   1370    160\n",
       "Taunus 2000      1993     98   438   170   1080    167\n",
       "Rancho           1442     80   431   166   1129    144\n",
       "Mazda 9295       1769     83   440   165   1095    165\n",
       "Opel Rekord      1979    100   459   173   1120    173\n",
       "Lada 1300        1294     68   404   161    955    140"
      ]
     },
     "metadata": {},
     "output_type": "display_data"
    },
    {
     "name": "stdout",
     "output_type": "stream",
     "text": [
      "<class 'pandas.core.frame.DataFrame'>\n",
      "Index: 18 entries, Alfasud TI to Lada 1300\n",
      "Data columns (total 6 columns):\n",
      " #   Column  Non-Null Count  Dtype\n",
      "---  ------  --------------  -----\n",
      " 0   CYL     18 non-null     int64\n",
      " 1   PUISS   18 non-null     int64\n",
      " 2   LONG    18 non-null     int64\n",
      " 3   LARG    18 non-null     int64\n",
      " 4   POIDS   18 non-null     int64\n",
      " 5   V.MAX   18 non-null     int64\n",
      "dtypes: int64(6)\n",
      "memory usage: 1008.0+ bytes\n",
      "None\n"
     ]
    }
   ],
   "source": [
    "df = pd.read_excel(\"./autos-Saporta.xls\", header=0, index_col=0)\n",
    "display(df.head(50))\n",
    "print(df.info())"
   ]
  },
  {
   "cell_type": "markdown",
   "metadata": {},
   "source": [
    "_Les 6 variables sont du type quantitative discrète._"
   ]
  },
  {
   "cell_type": "markdown",
   "metadata": {},
   "source": [
    "### 2- Standardisation des données en vue d’une analyse ACP"
   ]
  },
  {
   "cell_type": "code",
   "execution_count": 3,
   "metadata": {},
   "outputs": [
    {
     "name": "stdout",
     "output_type": "stream",
     "text": [
      "[[-0.7751 -0.2834 -1.8851 -1.0973 -1.569   0.5698]\n",
      " [-0.1202  0.0196  1.6058  2.001   0.2342  0.146 ]\n",
      " [-0.9292 -0.8389 -0.4422  0.2582 -0.2166 -0.5321]\n",
      " [-1.1273 -1.2933 -1.0007 -1.0973 -1.1182 -0.6168]\n",
      " [-0.1284  0.6761  0.256  -0.5164  0.1966  0.5698]\n",
      " [-0.9209 -0.1319 -0.2095  0.4518  0.0088  0.146 ]\n",
      " [ 0.4522 -0.2834  0.7215  0.4518  0.6098 -0.3626]\n",
      " [-0.1835 -1.4953 -0.4422 -0.71   -0.5172 -1.5492]\n",
      " [ 2.8408  2.1911  0.8611  1.2264  1.8119  1.8411]\n",
      " [-1.2814 -1.4953 -1.6058 -1.8719 -1.9822 -1.5492]\n",
      " [-0.1697  1.2316 -0.256  -0.9037 -0.1415  1.4173]\n",
      " [ 0.4577 -0.1319  0.5353  1.0328  0.6098 -0.0235]\n",
      " [ 1.0081  1.5346  1.6524  0.4518  2.1876  0.146 ]\n",
      " [ 0.9943  0.6761  0.2095  0.6455  0.0088  0.7393]\n",
      " [-0.5219 -0.2329 -0.1164 -0.1291  0.3769 -1.2102]\n",
      " [ 0.3779 -0.0814  0.3025 -0.3227  0.1215  0.5698]\n",
      " [ 0.9558  0.7771  1.1869  1.2264  0.3093  1.2478]\n",
      " [-0.9292 -0.8389 -1.3731 -1.0973 -0.9304 -1.5492]]\n"
     ]
    }
   ],
   "source": [
    "scaler = preprocessing.StandardScaler()\n",
    "standardized = scaler.fit_transform(df)\n",
    "print(standardized.round(4))"
   ]
  },
  {
   "cell_type": "markdown",
   "metadata": {},
   "source": [
    "### 3- Vérification que les données sont centrées et réduites"
   ]
  },
  {
   "cell_type": "code",
   "execution_count": 4,
   "metadata": {
    "scrolled": true
   },
   "outputs": [
    {
     "name": "stdout",
     "output_type": "stream",
     "text": [
      "Les moyennes des variables:\n",
      " [-0. -0.  0.  0.  0.  0.]\n",
      "Les écarts types des variables\n",
      " [1. 1. 1. 1. 1. 1.]\n"
     ]
    }
   ],
   "source": [
    "print(\"Les moyennes des variables:\\n\", np.mean(standardized, axis = 0).round(3))\n",
    "print(\"Les écarts types des variables\\n\", np.std(standardized, axis=0))"
   ]
  },
  {
   "cell_type": "markdown",
   "metadata": {},
   "source": [
    "## Étape 2\n",
    "### 1- Calcul de la matrice de corrélation des variables"
   ]
  },
  {
   "cell_type": "code",
   "execution_count": 5,
   "metadata": {},
   "outputs": [
    {
     "data": {
      "text/plain": [
       "array([[1.   , 0.797, 0.701, 0.63 , 0.789, 0.665],\n",
       "       [0.797, 1.   , 0.641, 0.521, 0.765, 0.844],\n",
       "       [0.701, 0.641, 1.   , 0.849, 0.868, 0.476],\n",
       "       [0.63 , 0.521, 0.849, 1.   , 0.717, 0.473],\n",
       "       [0.789, 0.765, 0.868, 0.717, 1.   , 0.478],\n",
       "       [0.665, 0.844, 0.476, 0.473, 0.478, 1.   ]])"
      ]
     },
     "metadata": {},
     "output_type": "display_data"
    }
   ],
   "source": [
    "corr_matrix = np.corrcoef(standardized.T)\n",
    "display(corr_matrix.round(3))"
   ]
  },
  {
   "cell_type": "markdown",
   "metadata": {},
   "source": [
    "### 2-3-4 Calcul de valeurs propres de la matrice de corrélation, somme des valeurs propres et calcul de la proportion de variance expliquée"
   ]
  },
  {
   "cell_type": "code",
   "execution_count": 6,
   "metadata": {},
   "outputs": [
    {
     "name": "stdout",
     "output_type": "stream",
     "text": [
      "Eigenvectors: \n",
      " [[-0.425 -0.124 -0.354  0.808  0.152 -0.059]\n",
      " [-0.422 -0.416 -0.185 -0.358 -0.294 -0.633]\n",
      " [-0.421  0.412  0.068 -0.28   0.731 -0.19 ]\n",
      " [-0.387  0.446  0.605  0.212 -0.478 -0.11 ]\n",
      " [-0.431  0.243 -0.484 -0.302 -0.305  0.581]\n",
      " [-0.359 -0.62   0.485 -0.074  0.189  0.459]] \n",
      "\n",
      "Eigenvalues: \n",
      " [4.42085806 0.85606229 0.37306608 0.21392209 0.09280121 0.04329027] \n",
      "\n",
      "Somme des valeurs propres: 5.999999999999997 \n",
      "\n",
      "Proportion de variance expliquée:\n",
      "[0.7368096766014814, 0.14267704820766, 0.06217767957332889, 0.03565368150388502, 0.015466868667654747, 0.0072150454459900485]\n"
     ]
    }
   ],
   "source": [
    "eigen_values, eigen_vectors = np.linalg.eig(corr_matrix)\n",
    "print(\"Eigenvectors: \\n\",eigen_vectors.round(3),\"\\n\")\n",
    "print(\"Eigenvalues: \\n\", eigen_values, \"\\n\")\n",
    "\n",
    "sum_eigen_values = sum(eigen_values)\n",
    "print(\"Somme des valeurs propres:\", sum_eigen_values, \"\\n\")\n",
    "props = list(map(lambda ev: ev / sum_eigen_values, eigen_values))\n",
    "print(\"Proportion de variance expliquée:\\n\" + str(props))"
   ]
  },
  {
   "cell_type": "markdown",
   "metadata": {},
   "source": [
    "### 5- Détermination du nombre d’axes à retenir en utilisant le critère de coude"
   ]
  },
  {
   "cell_type": "code",
   "execution_count": 7,
   "metadata": {
    "scrolled": false
   },
   "outputs": [
    {
     "data": {
      "image/png": "[encoded data removed]",
      "text/plain": [
       "<Figure size 432x288 with 1 Axes>"
      ]
     },
     "metadata": {
      "needs_background": "light"
     },
     "output_type": "display_data"
    }
   ],
   "source": [
    "plt.plot(np.arange(1,len(df.columns) + 1),eigen_values)\n",
    "plt.title(\"Scree plot\")\n",
    "plt.ylabel(\"Eigen values\")\n",
    "plt.xlabel(\"Axe\")\n",
    "plt.show()"
   ]
  },
  {
   "cell_type": "markdown",
   "metadata": {},
   "source": [
    "_On voit qu'à partir de 2 axes, il n'y a plus vraiment de gain dans l'explication de la variance; le coude se situe à 2 axes._"
   ]
  },
  {
   "cell_type": "markdown",
   "metadata": {},
   "source": [
    "### 6- Réalisation d'une  ACP"
   ]
  },
  {
   "cell_type": "code",
   "execution_count": 8,
   "metadata": {},
   "outputs": [
    {
     "name": "stdout",
     "output_type": "stream",
     "text": [
      "Coordonées des individus dans l'espace factoriel: [[-2.139  1.786  0.572  0.202 -0.301  0.054]\n",
      " [ 1.561 -1.527  1.315 -0.211  0.149 -0.327]\n",
      " [-1.119 -0.675  0.457 -0.168 -0.375  0.272]\n",
      " [-2.574  0.113  0.149 -0.017  0.227  0.263]\n",
      " [ 0.428  0.696 -0.193 -0.628  0.264 -0.037]\n",
      " [-0.304 -0.196  0.676 -0.556 -0.445  0.2  ]\n",
      " [ 0.684 -0.933 -0.257  0.203  0.209  0.154]\n",
      " [-1.948 -0.98  -0.62   0.63   0.293  0.109]\n",
      " [ 4.41   1.064 -0.594  0.847 -0.375  0.044]\n",
      " [-3.986  0.236 -0.303  0.265  0.278 -0.329]\n",
      " [ 0.438  1.912  0.025 -0.759  0.168 -0.054]\n",
      " [ 1.018 -0.842  0.217  0.303 -0.185  0.185]\n",
      " [ 2.941 -0.559 -1.244 -0.772  0.054 -0.057]\n",
      " [ 1.315  0.487  0.283  0.582 -0.067 -0.253]\n",
      " [-0.691 -0.898 -0.628 -0.358 -0.377 -0.122]\n",
      " [ 0.386  0.356 -0.076  0.103  0.527  0.339]\n",
      " [ 2.29   0.104  0.796  0.236  0.338 -0.157]\n",
      " [-2.709 -0.144 -0.574  0.096 -0.382 -0.283]] \n",
      "\n",
      "Nombre de composantes principales: 6 \n",
      "\n",
      "Variance expliquée: [4.68090853 0.90641889 0.39501114 0.22650574 0.09826011 0.04583676] \n",
      "\n",
      "Part de la variance expliquée: [0.73680968 0.14267705 0.06217768 0.03565368 0.01546687 0.00721505]\n"
     ]
    }
   ],
   "source": [
    "acp = PCA(svd_solver='full')\n",
    "C = acp.fit_transform(standardized)\n",
    "n_component = acp.n_components_\n",
    "\n",
    "print(\"Coordonées des individus dans l'espace factoriel:\", C.round(3), \"\\n\")\n",
    "print(\"Nombre de composantes principales:\", n_component, \"\\n\")\n",
    "print(\"Variance expliquée:\", acp.explained_variance_, \"\\n\")\n",
    "print(\"Part de la variance expliquée:\", acp.explained_variance_ratio_)"
   ]
  },
  {
   "cell_type": "markdown",
   "metadata": {},
   "source": [
    "_Les eigen values ne sont pas exactement les mêmes, mais restent proches. Par contre, les part de variances expliquées sont les mêmes ainsi que le nombre d'axes._"
   ]
  },
  {
   "cell_type": "code",
   "execution_count": 9,
   "metadata": {},
   "outputs": [
    {
     "data": {
      "image/png": "[encoded data removed]",
      "text/plain": [
       "<Figure size 432x288 with 1 Axes>"
      ]
     },
     "metadata": {
      "needs_background": "light"
     },
     "output_type": "display_data"
    }
   ],
   "source": [
    "plt.plot(np.arange(1,len(df.columns) + 1),np.cumsum(acp.explained_variance_ratio_))\n",
    "plt.title(\"Variance expliquée selon le nombre d'axes\")\n",
    "plt.ylabel(\"Variance expliquée cumulative\")\n",
    "plt.xlabel(\"Axe\")\n",
    "plt.show()"
   ]
  },
  {
   "cell_type": "markdown",
   "metadata": {},
   "source": [
    "### -7 Projection des individus sur les deux premières composantes principales"
   ]
  },
  {
   "cell_type": "code",
   "execution_count": 10,
   "metadata": {},
   "outputs": [
    {
     "data": {
      "image/png": "[encoded data removed]",
      "text/plain": [
       "<Figure size 864x864 with 1 Axes>"
      ]
     },
     "metadata": {
      "needs_background": "light"
     },
     "output_type": "display_data"
    }
   ],
   "source": [
    "#positionnement des individus dans le premier plan\n",
    "fig, axes = plt.subplots(figsize=(12,12))\n",
    "axes.set_xlim(-6,6) #même limites en abscisse\n",
    "axes.set_ylim(-6,6) #et en ordonnée\n",
    "\n",
    "#placement des étiquettes des observations\n",
    "for i in range((df.shape[0])):\n",
    " # i correspond à la ligne, 0 à la cp1 et 1 à la cp2\n",
    " plt.annotate(df.index[i],(C[i,0],C[i,1]))\n",
    "\n",
    "#ajouter les axes\n",
    "plt.plot([-6,6],[0,0],color='silver',linestyle='-',linewidth=1)\n",
    "plt.plot([0,0],[-6,6],color='silver',linestyle='-',linewidth=1)\n",
    "\n",
    "plt.show()"
   ]
  },
  {
   "cell_type": "markdown",
   "metadata": {},
   "source": [
    "_L'ACP nous permet de réduire la dimensionalité et ainsi pouvoir visualier le regroupement des individus. C'est-à-dire qu'on analyse la typologie des individus. Ainsi, sur le graphique ci-haut, on peut voir que sur l'axe principal (x), `Renaut 30` et `Toyota Corolla` sont à l'opposée, ce qui veut dire qu'elles sont éloignées en termes de ressemblance. C'est moins le cas par contre si on les compare selon la $2^e$ composante principale. En effet, dans cette visualisation, il s'agit plutôt de `Alfetta 1.66` et `Audi 100` qui sont les plus éloingées. Par contre, on ne sait pas à quoi est dû cette différence._"
   ]
  }
 ],
 "metadata": {
  "kernelspec": {
   "display_name": "Python 3",
   "language": "python",
   "name": "python3"
  },
  "language_info": {
   "codemirror_mode": {
    "name": "ipython",
    "version": 3
   },
   "file_extension": ".py",
   "mimetype": "text/x-python",
   "name": "python",
   "nbconvert_exporter": "python",
   "pygments_lexer": "ipython3",
   "version": "3.7.6"
  }
 },
 "nbformat": 4,
 "nbformat_minor": 4
}
