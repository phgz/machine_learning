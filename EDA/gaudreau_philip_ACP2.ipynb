{
 "cells": [
  {
   "cell_type": "code",
   "execution_count": 11,
   "metadata": {},
   "outputs": [],
   "source": [
    "import numpy as np\n",
    "import pandas as pd\n",
    "import matplotlib.pyplot as plt\n",
    "from sklearn import preprocessing\n",
    "import math\n",
    "\n",
    "from sklearn.decomposition import PCA"
   ]
  },
  {
   "cell_type": "markdown",
   "metadata": {},
   "source": [
    "## Étape 1\n",
    "### 1- Lecture des données"
   ]
  },
  {
   "cell_type": "code",
   "execution_count": 32,
   "metadata": {},
   "outputs": [
    {
     "data": {
      "text/html": [
       "<div>\n",
       "<style scoped>\n",
       "    .dataframe tbody tr th:only-of-type {\n",
       "        vertical-align: middle;\n",
       "    }\n",
       "\n",
       "    .dataframe tbody tr th {\n",
       "        vertical-align: top;\n",
       "    }\n",
       "\n",
       "    .dataframe thead th {\n",
       "        text-align: right;\n",
       "    }\n",
       "</style>\n",
       "<table border=\"1\" class=\"dataframe\">\n",
       "  <thead>\n",
       "    <tr style=\"text-align: right;\">\n",
       "      <th></th>\n",
       "      <th>Janv</th>\n",
       "      <th>Févr</th>\n",
       "      <th>Mars</th>\n",
       "      <th>Avri</th>\n",
       "      <th>Mai</th>\n",
       "      <th>Juin</th>\n",
       "      <th>juil</th>\n",
       "      <th>Août</th>\n",
       "      <th>Sept</th>\n",
       "      <th>Octo</th>\n",
       "      <th>Nove</th>\n",
       "      <th>Déce</th>\n",
       "      <th>Lati</th>\n",
       "      <th>Long</th>\n",
       "      <th>Moye</th>\n",
       "      <th>Ampl</th>\n",
       "      <th>Région</th>\n",
       "    </tr>\n",
       "  </thead>\n",
       "  <tbody>\n",
       "    <tr>\n",
       "      <th>Bordeaux</th>\n",
       "      <td>5.6</td>\n",
       "      <td>6.6</td>\n",
       "      <td>10.3</td>\n",
       "      <td>12.8</td>\n",
       "      <td>15.8</td>\n",
       "      <td>19.3</td>\n",
       "      <td>20.9</td>\n",
       "      <td>21.0</td>\n",
       "      <td>18.6</td>\n",
       "      <td>13.8</td>\n",
       "      <td>9.1</td>\n",
       "      <td>6.2</td>\n",
       "      <td>44.50</td>\n",
       "      <td>-0.34</td>\n",
       "      <td>13.33</td>\n",
       "      <td>15.4</td>\n",
       "      <td>SO</td>\n",
       "    </tr>\n",
       "    <tr>\n",
       "      <th>Brest</th>\n",
       "      <td>6.1</td>\n",
       "      <td>5.8</td>\n",
       "      <td>7.8</td>\n",
       "      <td>9.2</td>\n",
       "      <td>11.6</td>\n",
       "      <td>14.4</td>\n",
       "      <td>15.6</td>\n",
       "      <td>16.0</td>\n",
       "      <td>14.7</td>\n",
       "      <td>12.0</td>\n",
       "      <td>9.0</td>\n",
       "      <td>7.0</td>\n",
       "      <td>48.24</td>\n",
       "      <td>-4.29</td>\n",
       "      <td>10.77</td>\n",
       "      <td>10.2</td>\n",
       "      <td>NO</td>\n",
       "    </tr>\n",
       "    <tr>\n",
       "      <th>Clermont</th>\n",
       "      <td>2.6</td>\n",
       "      <td>3.7</td>\n",
       "      <td>7.5</td>\n",
       "      <td>10.3</td>\n",
       "      <td>13.8</td>\n",
       "      <td>17.3</td>\n",
       "      <td>19.4</td>\n",
       "      <td>19.1</td>\n",
       "      <td>16.2</td>\n",
       "      <td>11.2</td>\n",
       "      <td>6.6</td>\n",
       "      <td>3.6</td>\n",
       "      <td>45.47</td>\n",
       "      <td>3.05</td>\n",
       "      <td>10.94</td>\n",
       "      <td>16.8</td>\n",
       "      <td>SE</td>\n",
       "    </tr>\n",
       "    <tr>\n",
       "      <th>Grenoble</th>\n",
       "      <td>1.5</td>\n",
       "      <td>3.2</td>\n",
       "      <td>7.7</td>\n",
       "      <td>10.6</td>\n",
       "      <td>14.5</td>\n",
       "      <td>17.8</td>\n",
       "      <td>20.1</td>\n",
       "      <td>19.5</td>\n",
       "      <td>16.7</td>\n",
       "      <td>11.4</td>\n",
       "      <td>6.5</td>\n",
       "      <td>2.3</td>\n",
       "      <td>45.10</td>\n",
       "      <td>5.43</td>\n",
       "      <td>10.98</td>\n",
       "      <td>18.6</td>\n",
       "      <td>SE</td>\n",
       "    </tr>\n",
       "    <tr>\n",
       "      <th>Lille</th>\n",
       "      <td>2.4</td>\n",
       "      <td>2.9</td>\n",
       "      <td>6.0</td>\n",
       "      <td>8.9</td>\n",
       "      <td>12.4</td>\n",
       "      <td>15.3</td>\n",
       "      <td>17.1</td>\n",
       "      <td>17.1</td>\n",
       "      <td>14.7</td>\n",
       "      <td>10.4</td>\n",
       "      <td>6.1</td>\n",
       "      <td>3.5</td>\n",
       "      <td>50.38</td>\n",
       "      <td>3.04</td>\n",
       "      <td>9.73</td>\n",
       "      <td>14.7</td>\n",
       "      <td>NE</td>\n",
       "    </tr>\n",
       "    <tr>\n",
       "      <th>Lyon</th>\n",
       "      <td>2.1</td>\n",
       "      <td>3.3</td>\n",
       "      <td>7.7</td>\n",
       "      <td>10.9</td>\n",
       "      <td>14.9</td>\n",
       "      <td>18.5</td>\n",
       "      <td>20.7</td>\n",
       "      <td>20.1</td>\n",
       "      <td>16.9</td>\n",
       "      <td>11.4</td>\n",
       "      <td>6.7</td>\n",
       "      <td>3.1</td>\n",
       "      <td>45.45</td>\n",
       "      <td>4.51</td>\n",
       "      <td>11.36</td>\n",
       "      <td>18.6</td>\n",
       "      <td>SE</td>\n",
       "    </tr>\n",
       "    <tr>\n",
       "      <th>Marseille</th>\n",
       "      <td>5.5</td>\n",
       "      <td>6.6</td>\n",
       "      <td>10.0</td>\n",
       "      <td>13.0</td>\n",
       "      <td>16.8</td>\n",
       "      <td>20.8</td>\n",
       "      <td>23.3</td>\n",
       "      <td>22.8</td>\n",
       "      <td>19.9</td>\n",
       "      <td>15.0</td>\n",
       "      <td>10.2</td>\n",
       "      <td>6.9</td>\n",
       "      <td>43.18</td>\n",
       "      <td>5.24</td>\n",
       "      <td>14.23</td>\n",
       "      <td>17.8</td>\n",
       "      <td>SE</td>\n",
       "    </tr>\n",
       "    <tr>\n",
       "      <th>Montpellier</th>\n",
       "      <td>5.6</td>\n",
       "      <td>6.7</td>\n",
       "      <td>9.9</td>\n",
       "      <td>12.8</td>\n",
       "      <td>16.2</td>\n",
       "      <td>20.1</td>\n",
       "      <td>22.7</td>\n",
       "      <td>22.3</td>\n",
       "      <td>19.3</td>\n",
       "      <td>14.6</td>\n",
       "      <td>10.0</td>\n",
       "      <td>6.5</td>\n",
       "      <td>43.36</td>\n",
       "      <td>3.53</td>\n",
       "      <td>13.89</td>\n",
       "      <td>17.1</td>\n",
       "      <td>SE</td>\n",
       "    </tr>\n",
       "    <tr>\n",
       "      <th>Nantes</th>\n",
       "      <td>5.0</td>\n",
       "      <td>5.3</td>\n",
       "      <td>8.4</td>\n",
       "      <td>10.8</td>\n",
       "      <td>13.9</td>\n",
       "      <td>17.2</td>\n",
       "      <td>18.8</td>\n",
       "      <td>18.6</td>\n",
       "      <td>16.4</td>\n",
       "      <td>12.2</td>\n",
       "      <td>8.2</td>\n",
       "      <td>5.5</td>\n",
       "      <td>47.13</td>\n",
       "      <td>-1.33</td>\n",
       "      <td>11.69</td>\n",
       "      <td>13.8</td>\n",
       "      <td>NO</td>\n",
       "    </tr>\n",
       "    <tr>\n",
       "      <th>Nice</th>\n",
       "      <td>7.5</td>\n",
       "      <td>8.5</td>\n",
       "      <td>10.8</td>\n",
       "      <td>13.3</td>\n",
       "      <td>16.7</td>\n",
       "      <td>20.1</td>\n",
       "      <td>22.7</td>\n",
       "      <td>22.5</td>\n",
       "      <td>20.3</td>\n",
       "      <td>16.0</td>\n",
       "      <td>11.5</td>\n",
       "      <td>8.2</td>\n",
       "      <td>43.42</td>\n",
       "      <td>7.15</td>\n",
       "      <td>14.84</td>\n",
       "      <td>15.2</td>\n",
       "      <td>SE</td>\n",
       "    </tr>\n",
       "    <tr>\n",
       "      <th>Paris</th>\n",
       "      <td>3.4</td>\n",
       "      <td>4.1</td>\n",
       "      <td>7.6</td>\n",
       "      <td>10.7</td>\n",
       "      <td>14.3</td>\n",
       "      <td>17.5</td>\n",
       "      <td>19.1</td>\n",
       "      <td>18.7</td>\n",
       "      <td>16.0</td>\n",
       "      <td>11.4</td>\n",
       "      <td>7.1</td>\n",
       "      <td>4.3</td>\n",
       "      <td>48.52</td>\n",
       "      <td>2.20</td>\n",
       "      <td>11.18</td>\n",
       "      <td>15.7</td>\n",
       "      <td>NE</td>\n",
       "    </tr>\n",
       "    <tr>\n",
       "      <th>Rennes</th>\n",
       "      <td>4.8</td>\n",
       "      <td>5.3</td>\n",
       "      <td>7.9</td>\n",
       "      <td>10.1</td>\n",
       "      <td>13.1</td>\n",
       "      <td>16.2</td>\n",
       "      <td>17.9</td>\n",
       "      <td>17.8</td>\n",
       "      <td>15.7</td>\n",
       "      <td>11.6</td>\n",
       "      <td>7.8</td>\n",
       "      <td>5.4</td>\n",
       "      <td>48.05</td>\n",
       "      <td>-1.41</td>\n",
       "      <td>11.13</td>\n",
       "      <td>13.1</td>\n",
       "      <td>NO</td>\n",
       "    </tr>\n",
       "    <tr>\n",
       "      <th>Strasbourg</th>\n",
       "      <td>0.4</td>\n",
       "      <td>1.5</td>\n",
       "      <td>5.6</td>\n",
       "      <td>9.8</td>\n",
       "      <td>14.0</td>\n",
       "      <td>17.2</td>\n",
       "      <td>19.0</td>\n",
       "      <td>18.3</td>\n",
       "      <td>15.1</td>\n",
       "      <td>9.5</td>\n",
       "      <td>4.9</td>\n",
       "      <td>1.3</td>\n",
       "      <td>48.35</td>\n",
       "      <td>7.45</td>\n",
       "      <td>9.72</td>\n",
       "      <td>18.6</td>\n",
       "      <td>NE</td>\n",
       "    </tr>\n",
       "    <tr>\n",
       "      <th>Toulouse</th>\n",
       "      <td>4.7</td>\n",
       "      <td>5.6</td>\n",
       "      <td>9.2</td>\n",
       "      <td>11.6</td>\n",
       "      <td>14.9</td>\n",
       "      <td>18.7</td>\n",
       "      <td>20.9</td>\n",
       "      <td>20.9</td>\n",
       "      <td>18.3</td>\n",
       "      <td>13.3</td>\n",
       "      <td>8.6</td>\n",
       "      <td>5.5</td>\n",
       "      <td>43.36</td>\n",
       "      <td>1.26</td>\n",
       "      <td>12.68</td>\n",
       "      <td>16.2</td>\n",
       "      <td>SO</td>\n",
       "    </tr>\n",
       "    <tr>\n",
       "      <th>Vichy</th>\n",
       "      <td>2.4</td>\n",
       "      <td>3.4</td>\n",
       "      <td>7.1</td>\n",
       "      <td>9.9</td>\n",
       "      <td>13.6</td>\n",
       "      <td>17.1</td>\n",
       "      <td>19.3</td>\n",
       "      <td>18.8</td>\n",
       "      <td>16.0</td>\n",
       "      <td>11.0</td>\n",
       "      <td>6.6</td>\n",
       "      <td>3.4</td>\n",
       "      <td>46.08</td>\n",
       "      <td>3.26</td>\n",
       "      <td>10.72</td>\n",
       "      <td>16.9</td>\n",
       "      <td>SE</td>\n",
       "    </tr>\n",
       "  </tbody>\n",
       "</table>\n",
       "</div>"
      ],
      "text/plain": [
       "             Janv  Févr  Mars  Avri   Mai  Juin  juil  Août  Sept  Octo  Nove  \\\n",
       "Bordeaux      5.6   6.6  10.3  12.8  15.8  19.3  20.9  21.0  18.6  13.8   9.1   \n",
       "Brest         6.1   5.8   7.8   9.2  11.6  14.4  15.6  16.0  14.7  12.0   9.0   \n",
       "Clermont      2.6   3.7   7.5  10.3  13.8  17.3  19.4  19.1  16.2  11.2   6.6   \n",
       "Grenoble      1.5   3.2   7.7  10.6  14.5  17.8  20.1  19.5  16.7  11.4   6.5   \n",
       "Lille         2.4   2.9   6.0   8.9  12.4  15.3  17.1  17.1  14.7  10.4   6.1   \n",
       "Lyon          2.1   3.3   7.7  10.9  14.9  18.5  20.7  20.1  16.9  11.4   6.7   \n",
       "Marseille     5.5   6.6  10.0  13.0  16.8  20.8  23.3  22.8  19.9  15.0  10.2   \n",
       "Montpellier   5.6   6.7   9.9  12.8  16.2  20.1  22.7  22.3  19.3  14.6  10.0   \n",
       "Nantes        5.0   5.3   8.4  10.8  13.9  17.2  18.8  18.6  16.4  12.2   8.2   \n",
       "Nice          7.5   8.5  10.8  13.3  16.7  20.1  22.7  22.5  20.3  16.0  11.5   \n",
       "Paris         3.4   4.1   7.6  10.7  14.3  17.5  19.1  18.7  16.0  11.4   7.1   \n",
       "Rennes        4.8   5.3   7.9  10.1  13.1  16.2  17.9  17.8  15.7  11.6   7.8   \n",
       "Strasbourg    0.4   1.5   5.6   9.8  14.0  17.2  19.0  18.3  15.1   9.5   4.9   \n",
       "Toulouse      4.7   5.6   9.2  11.6  14.9  18.7  20.9  20.9  18.3  13.3   8.6   \n",
       "Vichy         2.4   3.4   7.1   9.9  13.6  17.1  19.3  18.8  16.0  11.0   6.6   \n",
       "\n",
       "             Déce   Lati  Long   Moye  Ampl Région  \n",
       "Bordeaux      6.2  44.50 -0.34  13.33  15.4     SO  \n",
       "Brest         7.0  48.24 -4.29  10.77  10.2     NO  \n",
       "Clermont      3.6  45.47  3.05  10.94  16.8     SE  \n",
       "Grenoble      2.3  45.10  5.43  10.98  18.6     SE  \n",
       "Lille         3.5  50.38  3.04   9.73  14.7     NE  \n",
       "Lyon          3.1  45.45  4.51  11.36  18.6     SE  \n",
       "Marseille     6.9  43.18  5.24  14.23  17.8     SE  \n",
       "Montpellier   6.5  43.36  3.53  13.89  17.1     SE  \n",
       "Nantes        5.5  47.13 -1.33  11.69  13.8     NO  \n",
       "Nice          8.2  43.42  7.15  14.84  15.2     SE  \n",
       "Paris         4.3  48.52  2.20  11.18  15.7     NE  \n",
       "Rennes        5.4  48.05 -1.41  11.13  13.1     NO  \n",
       "Strasbourg    1.3  48.35  7.45   9.72  18.6     NE  \n",
       "Toulouse      5.5  43.36  1.26  12.68  16.2     SO  \n",
       "Vichy         3.4  46.08  3.26  10.72  16.9     SE  "
      ]
     },
     "metadata": {},
     "output_type": "display_data"
    },
    {
     "name": "stdout",
     "output_type": "stream",
     "text": [
      "<class 'pandas.core.frame.DataFrame'>\n",
      "Index: 15 entries, Bordeaux to Vichy\n",
      "Data columns (total 17 columns):\n",
      " #   Column  Non-Null Count  Dtype  \n",
      "---  ------  --------------  -----  \n",
      " 0   Janv    15 non-null     float64\n",
      " 1   Févr    15 non-null     float64\n",
      " 2   Mars    15 non-null     float64\n",
      " 3   Avri    15 non-null     float64\n",
      " 4   Mai     15 non-null     float64\n",
      " 5   Juin    15 non-null     float64\n",
      " 6   juil    15 non-null     float64\n",
      " 7   Août    15 non-null     float64\n",
      " 8   Sept    15 non-null     float64\n",
      " 9   Octo    15 non-null     float64\n",
      " 10  Nove    15 non-null     float64\n",
      " 11  Déce    15 non-null     float64\n",
      " 12  Lati    15 non-null     float64\n",
      " 13  Long    15 non-null     float64\n",
      " 14  Moye    15 non-null     float64\n",
      " 15  Ampl    15 non-null     float64\n",
      " 16  Région  15 non-null     object \n",
      "dtypes: float64(16), object(1)\n",
      "memory usage: 2.1+ KB\n",
      "None\n"
     ]
    }
   ],
   "source": [
    "df = pd.read_csv(\"./Donnees_Temperat_France.csv\", header=0, index_col=0, encoding=\"latin_1\", sep = ';')\n",
    "display(df.head(50))\n",
    "print(df.info())"
   ]
  },
  {
   "cell_type": "markdown",
   "metadata": {},
   "source": [
    "_Nous n'utiliserons pas la variable `Région` puisqu'elle ne contient pas des valeurs numériques, ce qui est requis pour l'ACP. Du reste, toutes les autres variables sont du type quantitative continues._"
   ]
  },
  {
   "cell_type": "code",
   "execution_count": 34,
   "metadata": {},
   "outputs": [
    {
     "name": "stdout",
     "output_type": "stream",
     "text": [
      "Index(['Janv', 'Févr', 'Mars', 'Avri', 'Mai', 'Juin', 'juil', 'Août', 'Sept',\n",
      "       'Octo', 'Nove', 'Déce', 'Lati', 'Long', 'Moye', 'Ampl'],\n",
      "      dtype='object')\n"
     ]
    }
   ],
   "source": [
    "df.drop(\"Région\", axis=1, inplace=True)\n",
    "print(df.columns)"
   ]
  },
  {
   "cell_type": "markdown",
   "metadata": {},
   "source": [
    "### 2- Standardisation des données en vue d’une analyse ACP"
   ]
  },
  {
   "cell_type": "code",
   "execution_count": 37,
   "metadata": {},
   "outputs": [
    {
     "name": "stdout",
     "output_type": "stream",
     "text": [
      "[[ 0.8388  0.9787  1.399   1.3315  0.9402  0.8465  0.5186  0.7374  0.9036\n",
      "   0.8371  0.6733  0.7153 -0.6943 -0.9119  0.9806 -0.2284]\n",
      " [ 1.0967  0.5355 -0.2933 -1.3023 -1.9492 -1.9815 -2.0583 -1.8349 -1.2807\n",
      "  -0.181   0.6159  1.1381  0.9926 -2.1441 -0.6738 -2.5419]\n",
      " [-0.7082 -0.6279 -0.4964 -0.4975 -0.4357 -0.3078 -0.2107 -0.2401 -0.4406\n",
      "  -0.6335 -0.7613 -0.6589 -0.2568  0.1456 -0.564   0.3945]\n",
      " [-1.2754 -0.9049 -0.361  -0.278   0.0459 -0.0192  0.1297 -0.0343 -0.1606\n",
      "  -0.5204 -0.8187 -1.346  -0.4237  0.888  -0.5381  1.1953]\n",
      " [-0.8113 -1.0711 -1.5118 -1.5218 -1.3988 -1.4621 -1.329  -1.269  -1.2807\n",
      "  -1.086  -1.0482 -0.7118  1.9579  0.1425 -1.3459 -0.5398]\n",
      " [-0.966  -0.8495 -0.361  -0.0585  0.321   0.3848  0.4214  0.2744 -0.0485\n",
      "  -0.5204 -0.7039 -0.9232 -0.2658  0.601  -0.2925  1.1953]\n",
      " [ 0.7873  0.9787  1.1959  1.4779  1.6282  1.7122  1.6855  1.6634  1.6317\n",
      "   1.5159  1.3046  1.0852 -1.2897  0.8288  1.5622  0.8394]\n",
      " [ 0.8388  1.0341  1.1282  1.3315  1.2154  1.3082  1.3938  1.4062  1.2957\n",
      "   1.2896  1.1898  0.8738 -1.2085  0.2953  1.3425  0.528 ]\n",
      " [ 0.5294  0.2585  0.1128 -0.1317 -0.3669 -0.3655 -0.5024 -0.4973 -0.3286\n",
      "  -0.0679  0.1569  0.3453  0.4919 -1.2208 -0.0793 -0.9403]\n",
      " [ 1.8186  2.0313  1.7375  1.6973  1.5594  1.3082  1.3938  1.5091  1.8557\n",
      "   2.0815  2.0506  1.7723 -1.1815  1.4246  1.9564 -0.3174]\n",
      " [-0.2956 -0.4063 -0.4287 -0.2049 -0.0917 -0.1924 -0.3565 -0.4459 -0.5526\n",
      "  -0.5204 -0.4744 -0.2889  1.1189 -0.1196 -0.4089 -0.0949]\n",
      " [ 0.4263  0.2585 -0.2256 -0.6438 -0.9173 -0.9427 -0.94   -0.9089 -0.7206\n",
      "  -0.4073 -0.0727  0.2925  0.9069 -1.2457 -0.4412 -1.2517]\n",
      " [-1.8427 -1.8467 -1.7826 -0.8633 -0.2981 -0.3655 -0.4052 -0.6517 -1.0567\n",
      "  -1.5951 -1.7369 -1.8745  1.0422  1.5182 -1.3524  1.1953]\n",
      " [ 0.3747  0.4247  0.6544  0.4536  0.321   0.5002  0.5186  0.686   0.7356\n",
      "   0.5543  0.3864  0.3453 -1.2085 -0.4128  0.5605  0.1275]\n",
      " [-0.8113 -0.7941 -0.7672 -0.7901 -0.5733 -0.4232 -0.2593 -0.3944 -0.5526\n",
      "  -0.7466 -0.7613 -0.7646  0.0183  0.2111 -0.7061  0.439 ]]\n"
     ]
    }
   ],
   "source": [
    "scaler = preprocessing.StandardScaler()\n",
    "standardized = scaler.fit_transform(df)\n",
    "print(standardized.round(4))"
   ]
  },
  {
   "cell_type": "markdown",
   "metadata": {},
   "source": [
    "### 3- Vérification que les données sont centrées et réduites"
   ]
  },
  {
   "cell_type": "code",
   "execution_count": 38,
   "metadata": {
    "scrolled": true
   },
   "outputs": [
    {
     "name": "stdout",
     "output_type": "stream",
     "text": [
      "Les moyennes des variables:\n",
      " [ 0.  0.  0. -0. -0.  0.  0.  0. -0. -0.  0.  0. -0. -0. -0.  0.]\n",
      "Les écarts types des variables\n",
      " [1. 1. 1. 1. 1. 1. 1. 1. 1. 1. 1. 1. 1. 1. 1. 1.]\n"
     ]
    }
   ],
   "source": [
    "print(\"Les moyennes des variables:\\n\", np.mean(standardized, axis = 0).round(3))\n",
    "print(\"Les écarts types des variables\\n\", np.std(standardized, axis=0))"
   ]
  },
  {
   "cell_type": "markdown",
   "metadata": {},
   "source": [
    "## Étape 2\n",
    "### 1- Calcul de la matrice de corrélation des variables"
   ]
  },
  {
   "cell_type": "code",
   "execution_count": 39,
   "metadata": {},
   "outputs": [
    {
     "data": {
      "text/plain": [
       "array([[ 1.   ,  0.973,  0.835,  0.611,  0.363,  0.339,  0.297,  0.405,\n",
       "         0.604,  0.85 ,  0.951,  0.994, -0.424, -0.388,  0.775, -0.566],\n",
       "       [ 0.973,  1.   ,  0.931,  0.761,  0.547,  0.524,  0.49 ,  0.588,\n",
       "         0.76 ,  0.94 ,  0.986,  0.97 , -0.595, -0.222,  0.89 , -0.377],\n",
       "       [ 0.835,  0.931,  1.   ,  0.92 ,  0.767,  0.757,  0.722,  0.798,\n",
       "         0.911,  0.968,  0.927,  0.834, -0.806, -0.041,  0.97 , -0.062],\n",
       "       [ 0.611,  0.761,  0.92 ,  1.   ,  0.953,  0.942,  0.912,  0.949,\n",
       "         0.978,  0.905,  0.782,  0.619, -0.853,  0.291,  0.964,  0.284],\n",
       "       [ 0.363,  0.547,  0.767,  0.953,  1.   ,  0.994,  0.981,  0.98 ,\n",
       "         0.942,  0.77 ,  0.591,  0.381, -0.837,  0.541,  0.862,  0.547],\n",
       "       [ 0.339,  0.524,  0.757,  0.942,  0.994,  1.   ,  0.992,  0.989,\n",
       "         0.94 ,  0.757,  0.572,  0.361, -0.867,  0.527,  0.853,  0.576],\n",
       "       [ 0.297,  0.49 ,  0.722,  0.912,  0.981,  0.992,  1.   ,  0.991,\n",
       "         0.933,  0.739,  0.547,  0.324, -0.878,  0.588,  0.831,  0.618],\n",
       "       [ 0.405,  0.588,  0.798,  0.949,  0.98 ,  0.989,  0.991,  1.   ,\n",
       "         0.97 ,  0.812,  0.637,  0.43 , -0.902,  0.504,  0.89 ,  0.521],\n",
       "       [ 0.604,  0.76 ,  0.911,  0.978,  0.942,  0.94 ,  0.933,  0.97 ,\n",
       "         1.   ,  0.926,  0.796,  0.622, -0.901,  0.348,  0.969,  0.309],\n",
       "       [ 0.85 ,  0.94 ,  0.968,  0.905,  0.77 ,  0.757,  0.739,  0.812,\n",
       "         0.926,  1.   ,  0.964,  0.866, -0.778,  0.07 ,  0.984, -0.059],\n",
       "       [ 0.951,  0.986,  0.927,  0.782,  0.591,  0.572,  0.547,  0.637,\n",
       "         0.796,  0.964,  1.   ,  0.961, -0.636, -0.133,  0.913, -0.305],\n",
       "       [ 0.994,  0.97 ,  0.834,  0.619,  0.381,  0.361,  0.324,  0.43 ,\n",
       "         0.622,  0.866,  0.961,  1.   , -0.44 , -0.351,  0.788, -0.535],\n",
       "       [-0.424, -0.595, -0.806, -0.853, -0.837, -0.867, -0.878, -0.902,\n",
       "        -0.901, -0.778, -0.636, -0.44 ,  1.   , -0.312, -0.832, -0.42 ],\n",
       "       [-0.388, -0.222, -0.041,  0.291,  0.541,  0.527,  0.588,  0.504,\n",
       "         0.348,  0.07 , -0.133, -0.351, -0.312,  1.   ,  0.158,  0.826],\n",
       "       [ 0.775,  0.89 ,  0.97 ,  0.964,  0.862,  0.853,  0.831,  0.89 ,\n",
       "         0.969,  0.984,  0.913,  0.788, -0.832,  0.158,  1.   ,  0.081],\n",
       "       [-0.566, -0.377, -0.062,  0.284,  0.547,  0.576,  0.618,  0.521,\n",
       "         0.309, -0.059, -0.305, -0.535, -0.42 ,  0.826,  0.081,  1.   ]])"
      ]
     },
     "metadata": {},
     "output_type": "display_data"
    }
   ],
   "source": [
    "corr_matrix = np.corrcoef(standardized.T)\n",
    "display(corr_matrix.round(3))"
   ]
  },
  {
   "cell_type": "markdown",
   "metadata": {},
   "source": [
    "### 2-3-4 Calcul de valeurs propres de la matrice de corrélation, somme des valeurs propres et calcul de la proportion de variance expliquée"
   ]
  },
  {
   "cell_type": "code",
   "execution_count": 40,
   "metadata": {},
   "outputs": [
    {
     "name": "stdout",
     "output_type": "stream",
     "text": [
      "Eigenvectors: \n",
      " [[-0.212 -0.345  0.135 -0.015 -0.036  0.227  0.297  0.073  0.235 -0.112\n",
      "   0.35  -0.185 -0.181 -0.375  0.304 -0.081]\n",
      " [-0.251 -0.261  0.093  0.042  0.233 -0.032  0.226  0.494 -0.15   0.287\n",
      "  -0.565  0.041  0.234 -0.149 -0.034 -0.069]\n",
      " [-0.284 -0.117 -0.208 -0.06   0.476 -0.28  -0.217  0.145 -0.475 -0.251\n",
      "   0.371 -0.104 -0.11  -0.082 -0.173 -0.12 ]\n",
      " [-0.29   0.062 -0.06  -0.36   0.335  0.216 -0.041 -0.252  0.168  0.605\n",
      "   0.049  0.072 -0.333  0.171 -0.107 -0.105]\n",
      " [-0.266  0.205  0.041 -0.36   0.169  0.271 -0.133 -0.069  0.02  -0.355\n",
      "  -0.132 -0.129  0.481  0.328  0.298  0.065]\n",
      " [-0.265  0.215 -0.075 -0.273 -0.191  0.287  0.071 -0.083 -0.007 -0.265\n",
      "  -0.098  0.304  0.037 -0.54  -0.427 -0.195]\n",
      " [-0.26   0.238 -0.019 -0.046 -0.317 -0.03   0.201  0.552  0.012 -0.101\n",
      "   0.171  0.295 -0.288  0.457 -0.04  -0.088]\n",
      " [-0.275  0.185 -0.043 -0.027 -0.249 -0.331  0.336 -0.099  0.022  0.316\n",
      "   0.329 -0.338  0.484 -0.013 -0.178 -0.083]\n",
      " [-0.293  0.073  0.001  0.047  0.01  -0.466  0.167 -0.299  0.234 -0.31\n",
      "  -0.453 -0.247 -0.367  0.061 -0.076 -0.129]\n",
      " [-0.287 -0.111  0.127  0.139 -0.074 -0.387 -0.362 -0.166  0.176  0.091\n",
      "   0.082  0.614  0.212 -0.103  0.187 -0.011]\n",
      " [-0.26  -0.228  0.18   0.183 -0.185  0.182 -0.558  0.213  0.338 -0.008\n",
      "   0.01  -0.355  0.017  0.091 -0.351 -0.153]\n",
      " [-0.217 -0.333  0.183  0.053 -0.413  0.185  0.018 -0.365 -0.628  0.055\n",
      "  -0.095 -0.002 -0.088  0.213 -0.029 -0.084]\n",
      " [ 0.258 -0.126  0.495 -0.699 -0.141 -0.335 -0.117  0.137 -0.041  0.011\n",
      "   0.009 -0.07  -0.071 -0.074 -0.038 -0.019]\n",
      " [-0.066  0.423  0.754  0.328  0.292  0.091  0.089 -0.047 -0.117 -0.016\n",
      "   0.107  0.012 -0.053 -0.049 -0.068 -0.024]\n",
      " [-0.295 -0.043  0.04  -0.049 -0.051 -0.012  0.016  0.023 -0.001 -0.006\n",
      "   0.013 -0.032 -0.115 -0.087  0.554  0.926]\n",
      " [-0.05   0.489 -0.139  0.024 -0.246 -0.024 -0.378  0.152 -0.242  0.248\n",
      "  -0.144 -0.261 -0.178 -0.332  0.287  0.01 ]] \n",
      "\n",
      "Eigenvalues: \n",
      " [ 1.13681551e+01  4.01274702e+00  3.70910299e-01  1.72006959e-01\n",
      "  3.97857626e-02  1.34954375e-02  1.21203156e-02  5.38538381e-03\n",
      "  2.65370979e-03  1.86282806e-03  5.06409609e-04  3.34101035e-04\n",
      "  2.69579645e-05  9.70756715e-06  1.20160676e-16 -1.41147089e-16] \n",
      "\n",
      "Somme des valeurs propres: 15.999999999999988 \n",
      "\n",
      "Proportion de variance expliquée:\n",
      "[0.7105096944039876, 0.2507966886012037, 0.023181893701401248, 0.01075043494558231, 0.0024866101619858126, 0.0008434648467958844, 0.0007575197249003589, 0.000336586487836833, 0.00016585686180546643, 0.0001164267535457122, 3.1650600545426976e-05, 2.0881314678896102e-05, 1.6848727837207012e-06, 6.067229471444521e-07, 7.51004226713813e-18, -8.821693056287052e-18]\n"
     ]
    }
   ],
   "source": [
    "eigen_values, eigen_vectors = np.linalg.eig(corr_matrix)\n",
    "print(\"Eigenvectors: \\n\",eigen_vectors.round(3),\"\\n\")\n",
    "print(\"Eigenvalues: \\n\", eigen_values, \"\\n\")\n",
    "\n",
    "sum_eigen_values = sum(eigen_values)\n",
    "print(\"Somme des valeurs propres:\", sum_eigen_values, \"\\n\")\n",
    "props = list(map(lambda ev: ev / sum_eigen_values, eigen_values))\n",
    "print(\"Proportion de variance expliquée:\\n\" + str(props))"
   ]
  },
  {
   "cell_type": "markdown",
   "metadata": {},
   "source": [
    "### 5- Détermination du nombre d’axes à retenir en utilisant le critère de coude"
   ]
  },
  {
   "cell_type": "code",
   "execution_count": 41,
   "metadata": {
    "scrolled": false
   },
   "outputs": [
    {
     "data": {
      "image/png": "[encoded data removed]",
      "text/plain": [
       "<Figure size 432x288 with 1 Axes>"
      ]
     },
     "metadata": {
      "needs_background": "light"
     },
     "output_type": "display_data"
    }
   ],
   "source": [
    "plt.plot(np.arange(1,len(df.columns) + 1),eigen_values)\n",
    "plt.title(\"Scree plot\")\n",
    "plt.ylabel(\"Eigen values\")\n",
    "plt.xlabel(\"Axe\")\n",
    "plt.show()"
   ]
  },
  {
   "cell_type": "markdown",
   "metadata": {},
   "source": [
    "_On voit qu'à partir de 3 composantes principales, il n'y a plus vraiment de gain dans l'explication de la variance; le coude se situe à 3 axes._"
   ]
  },
  {
   "cell_type": "markdown",
   "metadata": {},
   "source": [
    "### 6- Réalisation d'une  ACP"
   ]
  },
  {
   "cell_type": "code",
   "execution_count": 43,
   "metadata": {},
   "outputs": [
    {
     "name": "stdout",
     "output_type": "stream",
     "text": [
      "Coordonées des individus dans l'espace factoriel: [[ 3.250e+00  8.630e-01 -8.350e-01  6.970e-01 -3.250e-01  5.500e-02\n",
      "   1.400e-02 -1.020e-01  2.700e-02  3.700e-02  1.100e-02  9.000e-03\n",
      "   7.000e-03  1.000e-03  0.000e+00]\n",
      " [-2.920e+00  5.057e+00  2.100e-02 -5.420e-01  2.200e-02 -1.380e-01\n",
      "   1.760e-01 -6.100e-02  3.000e-03  1.700e-02 -2.000e-03  1.000e-02\n",
      "  -1.000e-03  0.000e+00  0.000e+00]\n",
      " [-1.634e+00 -9.280e-01 -4.340e-01 -4.320e-01 -5.300e-02 -5.700e-02\n",
      "  -1.430e-01 -2.400e-02  9.500e-02  5.000e-02 -2.300e-02 -2.900e-02\n",
      "  -2.000e-03 -4.000e-03  0.000e+00]\n",
      " [-1.282e+00 -2.449e+00 -3.500e-01 -4.290e-01 -3.450e-01  1.270e-01\n",
      "   2.240e-01  7.300e-02 -2.500e-02 -1.200e-02  1.400e-02 -1.400e-02\n",
      "  -3.000e-03 -1.000e-03  0.000e+00]\n",
      " [-4.799e+00  3.980e-01  9.700e-01  1.050e-01  1.490e-01  3.110e-01\n",
      "  -1.400e-02 -6.400e-02 -7.000e-03  2.100e-02 -9.000e-03  1.000e-03\n",
      "   3.000e-03 -1.000e-03  0.000e+00]\n",
      " [-6.310e-01 -2.300e+00 -3.850e-01  5.200e-02  9.300e-02 -3.400e-02\n",
      "   5.200e-02  2.300e-02  3.400e-02 -4.300e-02 -3.400e-02  4.800e-02\n",
      "   1.000e-03 -3.000e-03  0.000e+00]\n",
      " [ 5.340e+00 -9.820e-01  2.530e-01  5.100e-02  3.820e-01 -2.000e-02\n",
      "   1.150e-01 -5.900e-02  4.400e-02 -3.700e-02  3.500e-02 -1.600e-02\n",
      "   1.000e-03 -3.000e-03  0.000e+00]\n",
      " [ 4.565e+00 -3.790e-01 -9.800e-02  2.200e-02  2.460e-01 -3.000e-03\n",
      "   4.200e-02  1.000e-01 -6.300e-02  1.090e-01 -1.600e-02  2.000e-03\n",
      "  -0.000e+00  1.000e-03  0.000e+00]\n",
      " [-5.690e-01  1.838e+00 -3.430e-01  4.290e-01  1.900e-02 -4.800e-02\n",
      "  -2.800e-02  4.100e-02 -8.700e-02 -6.800e-02 -2.900e-02 -2.900e-02\n",
      "   5.000e-03 -3.000e-03  0.000e+00]\n",
      " [ 6.439e+00  6.880e-01  1.416e+00 -3.530e-01 -3.160e-01 -2.200e-02\n",
      "  -8.500e-02  1.800e-02  7.000e-03 -2.700e-02 -1.400e-02  6.000e-03\n",
      "   1.000e-03  0.000e+00  0.000e+00]\n",
      " [-1.556e+00 -2.000e-02  3.170e-01  8.030e-01  2.100e-02 -4.200e-02\n",
      "   5.800e-02  2.900e-02  6.200e-02 -1.600e-02 -1.600e-02 -1.100e-02\n",
      "  -1.000e-02  6.000e-03  0.000e+00]\n",
      " [-1.876e+00  2.332e+00 -8.800e-02  2.340e-01 -2.500e-02  2.300e-02\n",
      "  -1.430e-01  1.450e-01  1.800e-02  1.000e-03  4.600e-02  1.500e-02\n",
      "  -3.000e-03 -3.000e-03  0.000e+00]\n",
      " [-4.205e+00 -3.191e+00  6.340e-01  2.110e-01 -8.100e-02 -2.200e-01\n",
      "  -4.800e-02 -7.700e-02 -7.400e-02  2.700e-02  2.200e-02  4.000e-03\n",
      "  -0.000e+00 -1.000e-03  0.000e+00]\n",
      " [ 2.051e+00  6.000e-02 -8.380e-01 -4.000e-01  8.400e-02  9.300e-02\n",
      "  -1.520e-01 -9.800e-02 -6.400e-02 -3.300e-02  4.000e-03  7.000e-03\n",
      "  -9.000e-03  3.000e-03  0.000e+00]\n",
      " [-2.176e+00 -9.880e-01 -2.390e-01 -4.470e-01  1.290e-01 -2.500e-02\n",
      "  -6.900e-02  5.700e-02  3.000e-02 -2.700e-02  1.100e-02 -2.000e-03\n",
      "   1.100e-02  7.000e-03  0.000e+00]] \n",
      "\n",
      "Nombre de composantes principales: 15 \n",
      "\n",
      "Variance expliquée: [1.21801662e+01 4.29937180e+00 3.97403892e-01 1.84293170e-01\n",
      " 4.26276028e-02 1.44593974e-02 1.29860524e-02 5.77005408e-03\n",
      " 2.84326049e-03 1.99588720e-03 5.42581724e-04 3.57965394e-04\n",
      " 2.88835334e-05 1.04009648e-05 1.78320561e-33] \n",
      "\n",
      "Part de la variance expliquée: [7.10509694e-01 2.50796689e-01 2.31818937e-02 1.07504349e-02\n",
      " 2.48661016e-03 8.43464847e-04 7.57519725e-04 3.36586488e-04\n",
      " 1.65856862e-04 1.16426754e-04 3.16506005e-05 2.08813147e-05\n",
      " 1.68487278e-06 6.06722947e-07 1.04020327e-34]\n"
     ]
    }
   ],
   "source": [
    "acp = PCA(svd_solver='full')\n",
    "C = acp.fit_transform(standardized)\n",
    "n_component = acp.n_components_\n",
    "\n",
    "print(\"Coordonées des individus dans l'espace factoriel:\", C.round(3), \"\\n\")\n",
    "print(\"Nombre de composantes principales:\", n_component, \"\\n\")\n",
    "print(\"Variance expliquée:\", acp.explained_variance_, \"\\n\")\n",
    "print(\"Part de la variance expliquée:\", acp.explained_variance_ratio_)"
   ]
  },
  {
   "cell_type": "markdown",
   "metadata": {},
   "source": [
    "_Les eigen values ne sont pas exactement les mêmes, mais restent proches. On remarque aussi qu'il n'y a que 15 composantes principales. Si l'on compare avec les eigenvalues, on remaque que la dernière valeur est négative! Ça doit être la raison pour laquelle elle n'est pas incluse dans l'ACP._"
   ]
  },
  {
   "cell_type": "code",
   "execution_count": 45,
   "metadata": {},
   "outputs": [
    {
     "data": {
      "image/png": "[encoded data removed]",
      "text/plain": [
       "<Figure size 432x288 with 1 Axes>"
      ]
     },
     "metadata": {
      "needs_background": "light"
     },
     "output_type": "display_data"
    }
   ],
   "source": [
    "plt.plot(np.arange(1,len(df.columns)),np.cumsum(acp.explained_variance_ratio_))\n",
    "plt.title(\"Variance expliquée selon le nombre d'axes\")\n",
    "plt.ylabel(\"Variance expliquée cumulative\")\n",
    "plt.xlabel(\"Axe\")\n",
    "plt.show()"
   ]
  },
  {
   "cell_type": "markdown",
   "metadata": {},
   "source": [
    "### -7 Projection des individus sur les deux premières composantes principales"
   ]
  },
  {
   "cell_type": "code",
   "execution_count": 50,
   "metadata": {},
   "outputs": [
    {
     "data": {
      "image/png": "[encoded data removed]",
      "text/plain": [
       "<Figure size 1080x1080 with 1 Axes>"
      ]
     },
     "metadata": {
      "needs_background": "light"
     },
     "output_type": "display_data"
    }
   ],
   "source": [
    "#positionnement des individus dans le premier plan\n",
    "fig, axes = plt.subplots(figsize=(15, 15))\n",
    "axes.set_xlim(-15,15) #même limites en abscisse\n",
    "axes.set_ylim(-15,15) #et en ordonnée\n",
    "\n",
    "#placement des étiquettes des observations\n",
    "for i in range((df.shape[0])):\n",
    " # i correspond à la ligne, 0 à la cp1 et 1 à la cp2\n",
    " plt.annotate(df.index[i],(C[i,0],C[i,1]))\n",
    "\n",
    "#ajouter les axes\n",
    "plt.plot([-15,15],[0,0],color='silver',linestyle='-',linewidth=1)\n",
    "plt.plot([0,0],[-15,15],color='silver',linestyle='-',linewidth=1)\n",
    "\n",
    "plt.show()"
   ]
  },
  {
   "cell_type": "markdown",
   "metadata": {},
   "source": [
    "_L'ACP nous permet de réduire la dimensionalité et ainsi pouvoir visualier le regroupement des individus. C'est-à-dire qu'on analyse la typologie des individus.\n",
    "\n",
    "Ainsi, sur le graphique ci-haut, on peut voir que les les individus sont plutôt dispersés. Par contre, on peut remarquer que `Lyon` et `Grenoble` sont très proches sur les deux premiers axes, tout comme `Vichy` et `Clermont`. D'autres villes sont pratiquement identiques selon un certain axe, mais plutôt éloignées selon l'autre, comme c'est le cas pour `Lille` et `Toulouse`, ou `Brest` et `Strasbourg` dans l'autre sens. On peut dire que `Brest` et `Marseille` sont à peu près les plus dissemblables, puisqu'ils sont éloignés sur les deux axes (selon les deux premières composantes principales).\n",
    "\n",
    "Par contre, on ne sait pas à quoi est dû cette différence._"
   ]
  }
 ],
 "metadata": {
  "kernelspec": {
   "display_name": "Python 3",
   "language": "python",
   "name": "python3"
  },
  "language_info": {
   "codemirror_mode": {
    "name": "ipython",
    "version": 3
   },
   "file_extension": ".py",
   "mimetype": "text/x-python",
   "name": "python",
   "nbconvert_exporter": "python",
   "pygments_lexer": "ipython3",
   "version": "3.7.6"
  }
 },
 "nbformat": 4,
 "nbformat_minor": 4
}
